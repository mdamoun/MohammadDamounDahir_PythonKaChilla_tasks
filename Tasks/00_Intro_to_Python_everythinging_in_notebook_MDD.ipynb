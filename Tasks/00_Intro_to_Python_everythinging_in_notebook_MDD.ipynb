{
 "cells": [
  {
   "cell_type": "markdown",
   "metadata": {},
   "source": [
    ">## Participant\n",
    ">\n",
    "Tile = \"Mr.\"\n",
    "\n",
    "Name = \"Mohammad Damoun Dahir\"\n",
    "\n",
    "email = \"mohammad.damoun@gmail.com\"\n",
    "\n",
    "whatsapp = \"00923335190823\"\n",
    "___"
   ]
  },
  {
   "cell_type": "markdown",
   "metadata": {},
   "source": [
    "# **Introduction to Python *(Exercises)***\n",
    "___"
   ]
  },
  {
   "cell_type": "markdown",
   "metadata": {},
   "source": [
    "## **Table of Contents** <a class=\"anchor\" id=\"IP00\"></a>\n",
    "|        | SECTION                     |\n",
    "|-------:|:----------------------------|\n",
    "| **1**  | [First Program](#IP01)      |\n",
    "| **2**  | [Operators](#IP02)          |\n",
    "| **3**  | [Strings](#IP03)            |\n",
    "| **4**  | [Comments](#IP04)           |\n",
    "| **5**  | [Variables](#IP05)          |\n",
    "| **6**  | [Input Variables](#IP06)    |\n",
    "| **7**  | [Conditional Logics](#IP07) |\n",
    "| **8**  | [Type Conversion](#IP08)    |\n",
    "| **9**  | [If, Else, Elif](#IP09)     |\n",
    "| **10** | [Functions](#IP10)          |\n",
    "| **11** | [Loops](#IP11)              |\n",
    "| **12** | [Import Libraries](#IP12)   |\n",
    "| **13** | [Trouble Shooting](#IP13)   |\n",
    "| **14** | [End Note](#IP14)           |\n",
    "___"
   ]
  },
  {
   "cell_type": "markdown",
   "metadata": {},
   "source": [
    ">### 01_first_program.py <a class=\"anchor\" id=\"IP01\"></a>\n",
    ">[Reference Video (Click Here)](https://youtu.be/amqff0XN2iM?list=PL9XvIvvVL50HVsu-Ao8NBr0UJSO8O6lBI&t=1196)\n"
   ]
  },
  {
   "cell_type": "code",
   "execution_count": null,
   "metadata": {},
   "outputs": [],
   "source": [
    "print(2+3)\n",
    "print(\"Hello World\")\n",
    "print(\"We are learning Python with Aaamar\")"
   ]
  },
  {
   "cell_type": "markdown",
   "metadata": {},
   "source": [
    "[^ Top](#IP00)\n",
    "___"
   ]
  },
  {
   "cell_type": "markdown",
   "metadata": {},
   "source": [
    ">### 02_operators.py <a class=\"anchor\" id=\"IP02\"></a>\n",
    ">[Reference Video Section (Click Here)](https://youtu.be/qbte73JwgFs?list=PL9XvIvvVL50HVsu-Ao8NBr0UJSO8O6lBI&t=13)"
   ]
  },
  {
   "cell_type": "code",
   "execution_count": null,
   "metadata": {},
   "outputs": [],
   "source": [
    "# + is for addition. Answer would be in single digit / integer.\n",
    "print(2+1)\n",
    "\n",
    "# - is for substraction. Answer would be in single digit / integer.\n",
    "print(3-1)\n",
    "\n",
    "# / is for division. However, the answer would be in decimal i.e. 3.0\n",
    "print(6/2)\n",
    "\n",
    "# // is for double-division. However, the answer would be integer. i.e without decimal\n",
    "print(6//2)\n",
    "\n",
    "# * is for multiplication. Answer would be in single digit / integer.\n",
    "print(2*3)\n",
    "\n",
    "# % is for remender number when 13 is divided by 2. Answer would be in single digit / integer.\n",
    "print(13%2)\n",
    "\n",
    "# ** is for the 'rise to the power' [Excel: 2^3]. Answer would be in single digit / integer.\n",
    "print(2**3)\n",
    "\n",
    "#For numbers in equations, Python process them in PEMDAS order\n",
    "#P is for Paranthesis\n",
    "#E is for Exponents\n",
    "#M is for Multiplications\n",
    "#D is for Divisions\n",
    "#A is for Additions\n",
    "#S is for Substractions\n",
    "#\n",
    "#The Sequence is from Left to Right >> for Multiplication and Division; >> so is for Addition and Substraction\n",
    "print(3**2/2*3/3+6-4)"
   ]
  },
  {
   "cell_type": "markdown",
   "metadata": {},
   "source": [
    "[^ Top](#IP00)\n",
    "___"
   ]
  },
  {
   "cell_type": "markdown",
   "metadata": {},
   "source": [
    ">### 03_strings.py  <a class=\"anchor\" id=\"IP03\"></a>\n",
    ">[Reference Video Section (Click Here)](https://youtu.be/qbte73JwgFs?list=PL9XvIvvVL50HVsu-Ao8NBr0UJSO8O6lBI&t=656)"
   ]
  },
  {
   "cell_type": "code",
   "execution_count": null,
   "metadata": {},
   "outputs": [],
   "source": [
    "print(\"Hello World\")\n",
    "print(\"We are learning Python with Aaamar\")\n",
    "#Anything written within\n",
    "# ' ' single\n",
    "print('Test for Single quotes')\n",
    "# \" \" double or\n",
    "print(\"Test for Double quotes\")\n",
    "# ''' ''' triple quotation are called strings\n",
    "print('''Test for Triple quotes''')\n",
    "#Examples\n",
    "print(\"What's up?\")\n",
    "print(   \"What's up     ?   \") #Whatever space used within the appranthesis is reflected in the output. However, any space outside the apparenthesis is omitted."
   ]
  },
  {
   "cell_type": "markdown",
   "metadata": {},
   "source": [
    "[^ Top](#IP00)\n",
    "___"
   ]
  },
  {
   "cell_type": "markdown",
   "metadata": {},
   "source": [
    ">### 04_comments.py  <a class=\"anchor\" id=\"IP04\"></a>\n",
    ">[Reference Video Section (Click Here)](https://youtu.be/qbte73JwgFs?list=PL9XvIvvVL50HVsu-Ao8NBr0UJSO8O6lBI&t=1005)"
   ]
  },
  {
   "cell_type": "code",
   "execution_count": null,
   "metadata": {},
   "outputs": [],
   "source": [
    "print(\"How are you?\")\n",
    "print(\"We are learning Python with Aammar.\")\n",
    "print(2+6)\n",
    "# To turn a line into comment either go to its begning and add ' # ' in front of it or as a shortcut, select the desired lines and\n",
    "# press 'Crtl' + '/' for Windows or press 'Cmd' + '/' for Mac. Its a toggle shortcut to \"comment out\" as well."
   ]
  },
  {
   "cell_type": "markdown",
   "metadata": {},
   "source": [
    "[^ Top](#IP00)\n",
    "___"
   ]
  },
  {
   "cell_type": "markdown",
   "metadata": {},
   "source": [
    ">### 05_variables.py  <a class=\"anchor\" id=\"IP05\"></a>\n",
    ">[Reference Video Section (Click Here)](https://youtu.be/qbte73JwgFs?list=PL9XvIvvVL50HVsu-Ao8NBr0UJSO8O6lBI&t=1296)"
   ]
  },
  {
   "cell_type": "code",
   "execution_count": null,
   "metadata": {},
   "outputs": [],
   "source": [
    "# Variables: Objects containing specific values\n",
    "x= 5 #numaric or integer variable\n",
    "print(x)\n",
    "\n",
    "y=\"We are learning Python with Aammar\" #String/Text Variable\n",
    "print(y)\n",
    "\n",
    "x= 15 #The previous value of x as been defined on line 2 is changed to 15 on this line as the value of the x is been redefined to 15\n",
    "print(x)\n",
    "#Or\n",
    "x= x+5 #We can updated the value of X on line 8 by operator (in this case adding 5)to it\n",
    "print(x)\n",
    "\n",
    "# to determine Types/Class of Variables\n",
    "#from example above for 'x'\n",
    "type(x) #we use the commond type(), however, it will not return anything visible unless we nest it in the print() as example below\n",
    "print(type(x)) # example 1\n",
    "print(type(y)) # example 2\n",
    "\n",
    "# Six (6) Rules to assign \"Variables\":\n",
    "# 1. The variables should contains letters, numbers or underscores\n",
    "# 2. Do not start with numbers\n",
    "# 3. Spaces are not allowed\n",
    "# 4. Do not use 'Python' functional 'keywords' to define variables. Example (break=, mean=, median=, test= etc...)\n",
    "# 5. Variable should be short and descriptive. Example (FName for First Name, LName for Last Name, DOB for Date Of Birth etc...)\n",
    "# 6. Case sesnsitivity. In Python DOB, dOB, DoB, dob, doB are all not same. That is uppercase letters and lowercase letters are not same.\n",
    "#    It is suggested to use 'lowercase letters' as it avoids the use of 'Shift' or 'Caps Lock' which can increase the chances of typos.\n",
    "\n",
    "fruit_basket00= \"Mangoes\",\"Guava\", \"Oranges\", \"Apples\", \"Bananas\", \"Strawberries\"\n",
    "#The above way of defining string will result in (pareathesis) on print command as each fruit is defined seperately.\n",
    "print(fruit_basket00)\n",
    "print(type(fruit_basket00))\n",
    "\n",
    "fruit_basket01= \"Mangoes, Guava, Oranges, Apples, Bananas, Strawberries\"\n",
    "#The above way of defining string will result in single string as all the fruits are in same \"quotations\".\n",
    "print(fruit_basket01)\n",
    "print(type(fruit_basket01))\n",
    "\n",
    "fruit_basket00= \"Mangoes\",\"Guava\", \"Oranges\", \"Apples\", \"Bananas\", \"Strawberries\"\n",
    "#The above way of defining string will result in (pareathesis) on print command as each fruit is defined seperately.\n",
    "del fruit_basket00 #<< just by using 'del' delete command for deleting defined variable 'fruit_basket00' will result in error\n",
    "print(fruit_basket00)"
   ]
  },
  {
   "cell_type": "markdown",
   "metadata": {},
   "source": [
    "[^ Top](#IP00)\n",
    "___"
   ]
  },
  {
   "cell_type": "markdown",
   "metadata": {},
   "source": [
    ">### 06_input_variables.py  <a class=\"anchor\" id=\"IP06\"></a>\n",
    ">[Reference Video Section (Click Here)](https://youtu.be/qbte73JwgFs?list=PL9XvIvvVL50HVsu-Ao8NBr0UJSO8O6lBI&t=2108)"
   ]
  },
  {
   "cell_type": "code",
   "execution_count": null,
   "metadata": {},
   "outputs": [],
   "source": [
    "# fruit_basket=\"Mangoes\"\n",
    "# print(fruit_basket)\n",
    "# #\n",
    "# # 'Input' function is to ask for user input and can be used to store as a variable\n",
    "# #Example number 1\n",
    "# fruit_basket=input(\"What is your favourite fruit? \")\n",
    "# print(\"Your favourite fruit is\", fruit_basket)\n",
    "\n",
    "# #Example number 2\n",
    "# name=input(\"What is your name? \")\n",
    "# greetings=\"Hello!\"\n",
    "# print(greetings,name)\n",
    "\n",
    "# #Example number 3\n",
    "# name=input(\"What is your name? \")\n",
    "# print(\"Hello!\", name)\n",
    "\n",
    "#Example number 4\n",
    "name= input(\"What is your name? \")\n",
    "age= input(\"How old are you? \")\n",
    "greetings=\"Hi!\"\n",
    "print(greetings, name, \"You are\", age,\"years old. You are still young!\")"
   ]
  },
  {
   "cell_type": "markdown",
   "metadata": {},
   "source": [
    "[^ Top](#IP00)\n",
    "___"
   ]
  },
  {
   "cell_type": "markdown",
   "metadata": {},
   "source": [
    ">### 07_conditional_logics.py  <a class=\"anchor\" id=\"IP07\"></a>\n",
    ">[Reference Video Section (Click Here)](https://youtu.be/qbte73JwgFs?list=PL9XvIvvVL50HVsu-Ao8NBr0UJSO8O6lBI&t=2729)"
   ]
  },
  {
   "cell_type": "code",
   "execution_count": null,
   "metadata": {},
   "outputs": [],
   "source": [
    "# Logical operators are either [TRUE or FALSE], [YES or NO], or [0 , 1]\n",
    "# equal to                  ==\n",
    "# not equal to              !=\n",
    "# less than                 <\n",
    "# more than                 >\n",
    "# less than and equal to    <=\n",
    "# more than and equal to    >=\n",
    "\n",
    "#EXAMPLES\n",
    "\n",
    "# #Eg 1: is 4 equal to 4?\n",
    "# print(\"Is 4 equal to 4? :\", 4==4) #the output will be TRUE\n",
    "# print(\"Is 4 not equal to 4? :\", 4!=4) #the output will be FALSE\n",
    "# print(\"Is 4 greater than 3? :\", 4>3) #the output will be TRUE\n",
    "# print(\"Is 3 less than 6? :\", 3<6) #the output will be TRUE\n",
    "# print(\"Is 3 greater than 6? :\", 3>6) #the output will be FALSE\n",
    "# print(\"Is 3 less than or equal 5? :\", 3<=5) #the output will be TRUE as the conditions for 3 to be less than or euqal to 5\n",
    "# print(\"Is 5 greater than or equal 4? :\", 5>=4) #the output will be TRUE as the conditions for 5 to be greater than or euqal to 4\n",
    "\n",
    "# # Applications of logical operators\n",
    "# hammad_age=4\n",
    "# age_school_admision=5\n",
    "# print(\"Hammad's age is\",hammad_age,\".\")\n",
    "# print(\"School age acceptance children for nursery is\",age_school_admision,\".\")\n",
    "# print(\"Can Hammad get the admission? \",hammad_age==age_school_admision)\n",
    "\n",
    "# Input fuction and logical operators\n",
    "age_school_admision=5\n",
    "child_name= input(\"What is your child's name? \")\n",
    "child_age= input(\"What is your child's age? \") #Keep in mind that the input is by default taken as string. It needs to be declared as intreger.\n",
    "# print(type(child_age)) #<< this can be verified by using the 'type' function\n",
    "child_age=int(child_age) #<< declaring the input variable as INTeger\n",
    "print(\"Can\", child_name, \"get the admission? \", child_age==age_school_admision)\n"
   ]
  },
  {
   "cell_type": "markdown",
   "metadata": {},
   "source": [
    "[^ Top](#IP00)\n",
    "___"
   ]
  },
  {
   "cell_type": "markdown",
   "metadata": {},
   "source": [
    ">### 08_type_conversion.py  <a class=\"anchor\" id=\"IP08\"></a>\n",
    ">[Reference Video Section (Click Here)](https://youtu.be/qbte73JwgFs?list=PL9XvIvvVL50HVsu-Ao8NBr0UJSO8O6lBI&t=3430)"
   ]
  },
  {
   "cell_type": "code",
   "execution_count": null,
   "metadata": {},
   "outputs": [],
   "source": [
    "x = 10          #INTeger\n",
    "y = 10.2        #Float -> Which comes with decimal\n",
    "z = \"Hello\"     #String\n",
    "\n",
    "print('x=', x, \"is a\", type(x))\n",
    "print('y=', y, \"is a\", type(y))\n",
    "print('z=', z, \"is a\", type(z))\n",
    "\n",
    "#---------------------------------------------------------------------------------------------------\n",
    "\n",
    "# Implicit TYPE Conversion\n",
    "x=x*y\n",
    "print(\"If we multiply integer 'x' with float 'y' then the answer (x * y) is\", x, \"which is a\", type(x))\n",
    "#From above example, it is evident that any Variable Integer when mathametically operated (+,-.*,/) by Float, it becomes Float.\n",
    "\n",
    "# Explicit Type Conversion\n",
    "age=input(\"What is your age? \")\n",
    "print(type(age)) # At this stage the output is STRING irrespective the input was a number. For example if the input was 18, it is stored as for example \"18\" not 18.\n",
    "\n",
    "#to make it explicit, we declare the \"Variable\" once the input is been submited.\n",
    "age=int(age)\n",
    "print(type(age))\n",
    "\n",
    "#Another way to convert the variable to integer is within the print function as below.\n",
    "print(type(int(age)))\n",
    "\n",
    "#All in all you can use following to setup the \"Explicit Conversions\"\n",
    "# int\n",
    "# float\n",
    "# str"
   ]
  },
  {
   "cell_type": "markdown",
   "metadata": {},
   "source": [
    "[^ Top](#IP00)\n",
    "___"
   ]
  },
  {
   "cell_type": "markdown",
   "metadata": {},
   "source": [
    ">### 09_if_else_elif.py  <a class=\"anchor\" id=\"IP09\"></a>\n",
    ">[Reference Video Section (Click Here)](https://youtu.be/qbte73JwgFs?list=PL9XvIvvVL50HVsu-Ao8NBr0UJSO8O6lBI&t=4049)"
   ]
  },
  {
   "cell_type": "code",
   "execution_count": null,
   "metadata": {},
   "outputs": [],
   "source": [
    "required_age_at_school = 5                                          #defined variable\n",
    "name= input(\"What is your child's name? \")                          #input variable\n",
    "age = input(\"What is your child's age? \")                           #input variable\n",
    "age= float(age)                                                       #Explicit converstion of input into integer\n",
    "\n",
    "# question: can your child go to school\n",
    "if age==required_age_at_school:                                     #Conditional comparison of defined variable with the input\n",
    "    print(\"Congradulations!\", name, \"can join the nursery.\")        #If the condition is been meet\n",
    "elif age > required_age_at_school:                                  #If the age is > the admission age\n",
    "    print (name, \"should join higher classes.\")\n",
    "elif age <= 2:                                                      #If the age is <= 2 years, then consider it for daycare\n",
    "    print (\"Consider\", name, \"for daycare admission.\")\n",
    "else:\n",
    "    print(name, \"is young for nursery admission. Please revisit when your child is 5 years old.\")                        #If the age is >> the admission age"
   ]
  },
  {
   "cell_type": "markdown",
   "metadata": {},
   "source": [
    "[^ Top](#IP00)\n",
    "___"
   ]
  },
  {
   "cell_type": "markdown",
   "metadata": {},
   "source": [
    ">### 10_functions.py  <a class=\"anchor\" id=\"IP10\"></a>\n",
    ">[Reference Video Section (Click Here)](https://youtu.be/qbte73JwgFs?list=PL9XvIvvVL50HVsu-Ao8NBr0UJSO8O6lBI&t=4718)"
   ]
  },
  {
   "cell_type": "code",
   "execution_count": null,
   "metadata": {},
   "outputs": [],
   "source": [
    "print(\"We are learning with Aammar\")\n",
    "print(\"We are learning with Aammar\")\n",
    "print(\"We are learning with Aammar\")\n",
    "print(\"\")\n",
    "\n",
    "#or defining a function to streamline and simplify the above code using various combinations by defining (def) function\n",
    "#1\n",
    "def print_codanics():                       #defining a new function eg print_codanics\n",
    "    print(\"We are learning with Aammar\")\n",
    "    print(\"We are learning with Aammar\")\n",
    "    print(\"We are learning with Aammar\")\n",
    "    print(\"\")\n",
    "\n",
    "print_codanics()\n",
    "\n",
    "#2\n",
    "def print_codanics():\n",
    "    text = \"We are learning with Aammar in Codanics youtube channel\"\n",
    "    print(text)\n",
    "    print(text)\n",
    "    print(text)\n",
    "    print(\"\")\n",
    "\n",
    "print_codanics()\n",
    " \n",
    "#3\n",
    "def print_codanics(text):\n",
    "    print(text)\n",
    "    print(text)\n",
    "    print(text)\n",
    "    print(\"\")\n",
    "\n",
    "print_codanics(\"We are learning Python functions with Aammar on his Yoututbe Channel\")\n",
    "\n",
    "#4 defining a function with if, elif, and else statements\n",
    "required_age_at_school = 5                                          #defined variables first\n",
    "name= input(\"What is your child's name? \")                          #input variable for name\n",
    "age = input(\"What is your child's age? \")                           #input variable for age\n",
    "age= float(age)                                                     #Explicit converstion of input into integer i.e. for the age\n",
    "\n",
    "def school_age_calculator(age,name):                                #NOTE: Variables should always be defined outside before defining a new fuction where it will be used\n",
    "    # question: can your child go to school\n",
    "    if age==required_age_at_school:                                     #Conditional comparison of defined variable with the input\n",
    "        print(\"Congradulations!\", name, \"can join the nursery.\")        #If the condition is been meet\n",
    "    elif age > required_age_at_school:                                  #If the age is > the admission age\n",
    "        print (name, \"based on the age should join higher classes.\")\n",
    "    elif age <= 2:                                                      #If the age is <= 2 years, then consider it for daycare\n",
    "        print ( name, \"is too young. Consider for daycare admission. Thank you!\")\n",
    "    else:\n",
    "        print(name, \"is still young for nursery admission. Please revisit when your child is 5 years old.\")                        #If the age is >> the admission age\n",
    "\n",
    "school_age_calculator(age, name)\n",
    "print(\"\")\n",
    "\n",
    "#5 defining a function of future (Example)s\n",
    "def future_age(age):\n",
    "    new_age=age+20\n",
    "    print(new_age)\n",
    "\n",
    "future_age(53)"
   ]
  },
  {
   "cell_type": "markdown",
   "metadata": {},
   "source": [
    "[^ Top](#IP00)\n",
    "___"
   ]
  },
  {
   "cell_type": "markdown",
   "metadata": {},
   "source": [
    ">### 11_loops.py   <a class=\"anchor\" id=\"IP11\"></a>\n",
    ">[Reference Video Section (Click Here)](https://youtu.be/qbte73JwgFs?list=PL9XvIvvVL50HVsu-Ao8NBr0UJSO8O6lBI&t=5713)"
   ]
  },
  {
   "cell_type": "code",
   "execution_count": null,
   "metadata": {},
   "outputs": [],
   "source": [
    "# There are 2 types of loop\n",
    "# 1) While Loops and\n",
    "# 2) For loop\n",
    "#\n",
    "#\n",
    "# While Loops Eg 1\n",
    "x=0                       #defining a variable; in this case an integer\n",
    "while(x<5):               #creating a loop with a condition that the condition should loop until x < 5\n",
    "    print(x)              #print the value of x\n",
    "    x=x+1                 #after each print, add an integer '1' to the value of x. NOTE: The increment is necessary here because if not given, the program would stuck in infinite loop of 0(ZEROS)\n",
    "print(\"\")\n",
    "\n",
    "# For Loop Eg 1\n",
    "for x in range(5,10):       #Initiating a loop by defining a varibable 'x' and giving it a 'range' between 5 to 10\n",
    "    print(x)                #Now a commond to print the x to print the value of 'x'\n",
    "print(\"\")\n",
    "\n",
    "# Eg 2 Another example of 'For' loop is to make an \"Array\" set\n",
    "days = [\"Mon\",\"Tue\",\"Wed\",\"Thu\",\"Fri\",\"Sat\",\"Sun\"]      # made a 'variable-string-array' using square [] brackets\n",
    "for d in days:                                          # 'd' here can be any new variable defined to be arbitaraly used for the loop to complete\n",
    "    print(d)                                            # loops is initiated until days are printed from Mon to Sun\n",
    "print(\"\")\n",
    "\n",
    "# Eg 3 From above example\n",
    "days = [\"Mon\",\"Tue\",\"Wed\",\"Thu\",\"Fri\",\"Sat\",\"Sun\"]      # made a 'variable-string-array' using square [] brackets\n",
    "for d in days:                                          # 'd' here can be any new variable defined to be arbitaraly used for the loop to complete\n",
    "    if (d=='Fri'): break                                # <<<<< Added a condition to \"break\" the loop if the values of 'd' becomes \"Fri\"\n",
    "    print(d)                                            # loops is initiated until days are printed from Mon to Sun\n",
    "print(\"\")\n",
    "\n",
    "# Eg 4 From above example\n",
    "days = [\"Mon\",\"Tue\",\"Wed\",\"Thu\",\"Fri\",\"Sat\",\"Sun\"]      # made a 'variable-string-array' using square [] brackets\n",
    "for d in days:                                          # 'd' here can be any new variable defined to be arbitaraly used for the loop to complete\n",
    "    if (d=='Fri'): continue                             # <<<<< Added a condition to skip 'd' when it becomes \"Fri\" and then \"continue\" with the rest of the loop\n",
    "    print(d)                                            # loops is initiated until days are printed from Mon to Sun\n",
    "print(\"\")"
   ]
  },
  {
   "cell_type": "markdown",
   "metadata": {},
   "source": [
    "[^ Top](#IP00)\n",
    "___"
   ]
  },
  {
   "cell_type": "markdown",
   "metadata": {},
   "source": [
    ">### 12_import_libraries.py   <a class=\"anchor\" id=\"IP12\"></a>\n",
    ">[Reference Video Section (Click Here)](https://youtu.be/qbte73JwgFs?list=PL9XvIvvVL50HVsu-Ao8NBr0UJSO8O6lBI&t=6185)"
   ]
  },
  {
   "cell_type": "code",
   "execution_count": null,
   "metadata": {},
   "outputs": [],
   "source": [
    "# The libraries are already built scripts/programs (available for free) which can be imported in your script/program to be used\n",
    "#\n",
    "#For example in maths, if you want to find the value of pi, we can import the \"math\" library which then can be used.\n",
    "import math                 # First to import the library to be used\n",
    "print(\"The value of pi is\", math.pi)\n",
    "print(\"\")\n",
    "\n",
    "#There is another library of Statistics which you need to use\n",
    "import statistics                                          #First import the library of Statistic\n",
    "x = [150,250,350,450,750]                                  #in this example we created an array of numbers to be considered\n",
    "print(\"The mean of\",x, \"is\",statistics.mean(x))            #here we are asking to find the mean of the defined array x\n",
    "print(\"The median of\",x, \"is\",statistics.median(x))        #here we are asking to find the median of the defined array x\n",
    "\n",
    "\n",
    "# External libraries examples\n",
    "# numpy, panadas, seaborn, matplotlib"
   ]
  },
  {
   "cell_type": "markdown",
   "metadata": {},
   "source": [
    "[^ Top](#IP00)\n",
    "___"
   ]
  },
  {
   "cell_type": "markdown",
   "metadata": {},
   "source": [
    ">### 13_trouble_shooting.py   <a class=\"anchor\" id=\"IP13\"></a>\n",
    ">[Reference Video Section (Click Here)](https://youtu.be/qbte73JwgFs?list=PL9XvIvvVL50HVsu-Ao8NBr0UJSO8O6lBI&t=6187)"
   ]
  },
  {
   "cell_type": "code",
   "execution_count": null,
   "metadata": {},
   "outputs": [],
   "source": [
    "#\"Syntax Error\"\n",
    "print(We are learning Python with Aaamr)                #This resut in error below called \"SyntaxError\"\n",
    "# print(We are learning Python with Aaamr)\n",
    "#       ^^^^^^\n",
    "#SyntaxError: invalid syntax. Perhaps you forgot a comma?\n",
    "#To solve it, we need to add the \" \" to fix the issue.\n",
    "\n",
    "\n",
    "\n",
    "#\"Runtime Error\"; Example here is of 'ZeroDivisionError'\n",
    "print(25/0)                                            #This result in error below called \"ZeroDivisionError\" also called \"Runtime Error\" as any number dvided by Zero(0) is infinity\n",
    "#   print(25/0)                                        #\"Runtime Error\" is moslty associated with mathimatical issues\n",
    "#ZeroDivisionError: division by zero\n",
    "#To solve it, just make sure you do not divide any number by Zero(0)\n",
    "\n",
    "\n",
    "\n",
    "#\"Semantic error\" are the \"Human Errors\" while coding. The codes are acceptable by the program but are not giving the required results as been anticipated by the programers\n",
    "#These errors are hard to debug or trace when there are hundred lines of codes been written.\n",
    "#\n",
    "# #Example 1\n",
    "name= Damoun\n",
    "print(\"Hello name\")                                     #in this case just a typo/human error, program will run but will not give the desired result.\n",
    "print(\"Hello\",name)                                     #this was the intended code"
   ]
  },
  {
   "cell_type": "markdown",
   "metadata": {},
   "source": [
    "[^ Top](#IP00)\n",
    "___"
   ]
  },
  {
   "cell_type": "markdown",
   "metadata": {},
   "source": [
    ">## END NOTE:  <a class=\"anchor\" id=\"IP14\"></a>\n",
    ">### Summary of Activties been Performed\n",
    ">\n",
    ">1. Download and installed the latest version of **Python 3**.\n",
    ">2. Download and installed **Visual Studio Code** along with its plugin for **Python**.\n",
    ">3. Learned to code in **Visual Studio Code**  covering various aspects of it.\n",
    ">4. Learned to download **Anaconda** and use its **Navigator** to lauch **Jupyter**.\n",
    ">5. Learned to navigate and create .ipynb files.\n",
    ">\n",
    "> This document is just a summarized reflection of actual work been performed at one place.\\\n",
    "> Other versions and practice files might exist.\n",
    ">\n",
    ">`End of the Document`"
   ]
  },
  {
   "cell_type": "markdown",
   "metadata": {},
   "source": [
    "[^ Top](#IP00)\n",
    "___"
   ]
  }
 ],
 "metadata": {
  "interpreter": {
   "hash": "ad6ec052a6ed06a9c5369350bb1b22f55b27eb3936937b63530579205df4a83b"
  },
  "kernelspec": {
   "display_name": "Python 3.9.7 64-bit ('base': conda)",
   "language": "python",
   "name": "python3"
  },
  "language_info": {
   "codemirror_mode": {
    "name": "ipython",
    "version": 3
   },
   "file_extension": ".py",
   "mimetype": "text/x-python",
   "name": "python",
   "nbconvert_exporter": "python",
   "pygments_lexer": "ipython3",
   "version": "3.9.7"
  },
  "orig_nbformat": 4
 },
 "nbformat": 4,
 "nbformat_minor": 2
}
