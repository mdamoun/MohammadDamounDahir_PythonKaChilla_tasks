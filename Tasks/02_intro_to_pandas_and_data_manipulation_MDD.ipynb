{
 "cells": [
  {
   "cell_type": "markdown",
   "metadata": {},
   "source": [
    ">## Participant\n",
    ">\n",
    "Tile = \"Mr.\"\n",
    "\n",
    "Name = \"Mohammad Damoun Dahir\"\n",
    "\n",
    "email = \"mohammad.damoun@gmail.com\"\n",
    "\n",
    "whatsapp = \"00923335190823\"\n",
    "___"
   ]
  },
  {
   "cell_type": "markdown",
   "metadata": {},
   "source": [
    "# Pandas Tutorial (Day-11)\n",
    "\n",
    "This notebook explains how to install Pandas and use its various functions for data manipulation."
   ]
  },
  {
   "cell_type": "markdown",
   "metadata": {},
   "source": [
    "### 1. How to install libraries"
   ]
  },
  {
   "cell_type": "code",
   "execution_count": 240,
   "metadata": {},
   "outputs": [],
   "source": [
    "#pip install pandas\n",
    "#pip install numpy"
   ]
  },
  {
   "cell_type": "markdown",
   "metadata": {},
   "source": [
    "### 2. How to load libraries"
   ]
  },
  {
   "cell_type": "code",
   "execution_count": 241,
   "metadata": {},
   "outputs": [],
   "source": [
    "import pandas as pd\n",
    "import numpy as np"
   ]
  },
  {
   "cell_type": "markdown",
   "metadata": {},
   "source": [
    "### 3. Object Creation"
   ]
  },
  {
   "cell_type": "markdown",
   "metadata": {},
   "source": [
    "**3a. Creating 1D Series**"
   ]
  },
  {
   "cell_type": "code",
   "execution_count": 242,
   "metadata": {},
   "outputs": [
    {
     "data": {
      "text/plain": [
       "0    1\n",
       "1    3\n",
       "2    5\n",
       "3    7\n",
       "4    8\n",
       "5    9\n",
       "dtype: int64"
      ]
     },
     "execution_count": 242,
     "metadata": {},
     "output_type": "execute_result"
    }
   ],
   "source": [
    "# Creating a 1D series\n",
    "s = pd.Series([1,3,5,7,8,9])\n",
    "s"
   ]
  },
  {
   "cell_type": "markdown",
   "metadata": {},
   "source": [
    "**3b. Creating 1D Series with Empty Cell**"
   ]
  },
  {
   "cell_type": "code",
   "execution_count": 243,
   "metadata": {},
   "outputs": [
    {
     "data": {
      "text/plain": [
       "0    1.0\n",
       "1    3.0\n",
       "2    NaN\n",
       "3    5.0\n",
       "4    7.0\n",
       "5    8.0\n",
       "6    9.0\n",
       "dtype: float64"
      ]
     },
     "execution_count": 243,
     "metadata": {},
     "output_type": "execute_result"
    }
   ],
   "source": [
    "# Creating an \"empty cell\" in the 1D Panda Series using Numpy\n",
    "s = pd.Series([1,3,np.nan,5 ,7,8,9])             #< np.nan between 5 and 7 will use Numpy library to create a NaN element in this Panda series\n",
    "s"
   ]
  },
  {
   "cell_type": "markdown",
   "metadata": {},
   "source": [
    "**3c. Creating 1D Series of a specified dates**"
   ]
  },
  {
   "cell_type": "code",
   "execution_count": 244,
   "metadata": {},
   "outputs": [
    {
     "data": {
      "text/plain": [
       "DatetimeIndex(['2022-08-21', '2022-08-22', '2022-08-23', '2022-08-24',\n",
       "               '2022-08-25', '2022-08-26', '2022-08-27'],\n",
       "              dtype='datetime64[ns]', freq='D')"
      ]
     },
     "execution_count": 244,
     "metadata": {},
     "output_type": "execute_result"
    }
   ],
   "source": [
    "dates = pd.date_range(\"20220821\", periods=7)    #giving commmand to pd to create a date range from 21 Aug 2022 (2022/08/21)for a period of 7 days\n",
    "dates"
   ]
  },
  {
   "cell_type": "markdown",
   "metadata": {},
   "source": [
    "**3d. Creating a Time based Data Frame (2D Matrix) using random data, and dates generated from 3c**"
   ]
  },
  {
   "cell_type": "code",
   "execution_count": 245,
   "metadata": {},
   "outputs": [
    {
     "data": {
      "text/html": [
       "<div>\n",
       "<style scoped>\n",
       "    .dataframe tbody tr th:only-of-type {\n",
       "        vertical-align: middle;\n",
       "    }\n",
       "\n",
       "    .dataframe tbody tr th {\n",
       "        vertical-align: top;\n",
       "    }\n",
       "\n",
       "    .dataframe thead th {\n",
       "        text-align: right;\n",
       "    }\n",
       "</style>\n",
       "<table border=\"1\" class=\"dataframe\">\n",
       "  <thead>\n",
       "    <tr style=\"text-align: right;\">\n",
       "      <th></th>\n",
       "      <th>A</th>\n",
       "      <th>B</th>\n",
       "      <th>C</th>\n",
       "      <th>D</th>\n",
       "    </tr>\n",
       "  </thead>\n",
       "  <tbody>\n",
       "    <tr>\n",
       "      <th>2022-08-21</th>\n",
       "      <td>-1.015768</td>\n",
       "      <td>0.776747</td>\n",
       "      <td>-1.457461</td>\n",
       "      <td>-1.470606</td>\n",
       "    </tr>\n",
       "    <tr>\n",
       "      <th>2022-08-22</th>\n",
       "      <td>0.184745</td>\n",
       "      <td>-0.042064</td>\n",
       "      <td>-1.019965</td>\n",
       "      <td>-1.056306</td>\n",
       "    </tr>\n",
       "    <tr>\n",
       "      <th>2022-08-23</th>\n",
       "      <td>-0.185646</td>\n",
       "      <td>0.775923</td>\n",
       "      <td>-1.927912</td>\n",
       "      <td>-0.771617</td>\n",
       "    </tr>\n",
       "    <tr>\n",
       "      <th>2022-08-24</th>\n",
       "      <td>0.587399</td>\n",
       "      <td>0.040401</td>\n",
       "      <td>-1.261239</td>\n",
       "      <td>-0.753960</td>\n",
       "    </tr>\n",
       "    <tr>\n",
       "      <th>2022-08-25</th>\n",
       "      <td>-0.022128</td>\n",
       "      <td>-0.657940</td>\n",
       "      <td>1.071447</td>\n",
       "      <td>-0.551672</td>\n",
       "    </tr>\n",
       "    <tr>\n",
       "      <th>2022-08-26</th>\n",
       "      <td>-0.141788</td>\n",
       "      <td>0.692611</td>\n",
       "      <td>-1.796206</td>\n",
       "      <td>-0.504054</td>\n",
       "    </tr>\n",
       "    <tr>\n",
       "      <th>2022-08-27</th>\n",
       "      <td>-0.254634</td>\n",
       "      <td>-1.194663</td>\n",
       "      <td>1.391343</td>\n",
       "      <td>-1.131210</td>\n",
       "    </tr>\n",
       "  </tbody>\n",
       "</table>\n",
       "</div>"
      ],
      "text/plain": [
       "                   A         B         C         D\n",
       "2022-08-21 -1.015768  0.776747 -1.457461 -1.470606\n",
       "2022-08-22  0.184745 -0.042064 -1.019965 -1.056306\n",
       "2022-08-23 -0.185646  0.775923 -1.927912 -0.771617\n",
       "2022-08-24  0.587399  0.040401 -1.261239 -0.753960\n",
       "2022-08-25 -0.022128 -0.657940  1.071447 -0.551672\n",
       "2022-08-26 -0.141788  0.692611 -1.796206 -0.504054\n",
       "2022-08-27 -0.254634 -1.194663  1.391343 -1.131210"
      ]
     },
     "execution_count": 245,
     "metadata": {},
     "output_type": "execute_result"
    }
   ],
   "source": [
    "df = pd.DataFrame(np.random.randn(7,4), index=dates, columns=list(\"ABCD\")) # where np.random.randn(ROWS,COLUMN)creates ROW=7 as we defined periods=7 from 3c \n",
    "df                                                                          # We defined dates as index and we gave 4 columns name of A,B,C, and D.\n"
   ]
  },
  {
   "cell_type": "markdown",
   "metadata": {},
   "source": [
    "**3e. Creating Dataframe having 4 rows and 6 column using Dictionary{Key:Value}**"
   ]
  },
  {
   "cell_type": "code",
   "execution_count": 246,
   "metadata": {},
   "outputs": [
    {
     "data": {
      "text/html": [
       "<div>\n",
       "<style scoped>\n",
       "    .dataframe tbody tr th:only-of-type {\n",
       "        vertical-align: middle;\n",
       "    }\n",
       "\n",
       "    .dataframe tbody tr th {\n",
       "        vertical-align: top;\n",
       "    }\n",
       "\n",
       "    .dataframe thead th {\n",
       "        text-align: right;\n",
       "    }\n",
       "</style>\n",
       "<table border=\"1\" class=\"dataframe\">\n",
       "  <thead>\n",
       "    <tr style=\"text-align: right;\">\n",
       "      <th></th>\n",
       "      <th>A</th>\n",
       "      <th>B</th>\n",
       "      <th>C</th>\n",
       "      <th>D</th>\n",
       "      <th>E</th>\n",
       "      <th>F</th>\n",
       "    </tr>\n",
       "  </thead>\n",
       "  <tbody>\n",
       "    <tr>\n",
       "      <th>0</th>\n",
       "      <td>1.0</td>\n",
       "      <td>2022-01-14</td>\n",
       "      <td>1.0</td>\n",
       "      <td>3</td>\n",
       "      <td>girl</td>\n",
       "      <td>female</td>\n",
       "    </tr>\n",
       "    <tr>\n",
       "      <th>1</th>\n",
       "      <td>1.0</td>\n",
       "      <td>2022-01-14</td>\n",
       "      <td>1.0</td>\n",
       "      <td>3</td>\n",
       "      <td>woman</td>\n",
       "      <td>female</td>\n",
       "    </tr>\n",
       "    <tr>\n",
       "      <th>2</th>\n",
       "      <td>1.0</td>\n",
       "      <td>2022-01-14</td>\n",
       "      <td>1.0</td>\n",
       "      <td>3</td>\n",
       "      <td>girl</td>\n",
       "      <td>female</td>\n",
       "    </tr>\n",
       "    <tr>\n",
       "      <th>3</th>\n",
       "      <td>1.0</td>\n",
       "      <td>2022-01-14</td>\n",
       "      <td>1.0</td>\n",
       "      <td>3</td>\n",
       "      <td>woman</td>\n",
       "      <td>female</td>\n",
       "    </tr>\n",
       "  </tbody>\n",
       "</table>\n",
       "</div>"
      ],
      "text/plain": [
       "     A          B    C  D      E       F\n",
       "0  1.0 2022-01-14  1.0  3   girl  female\n",
       "1  1.0 2022-01-14  1.0  3  woman  female\n",
       "2  1.0 2022-01-14  1.0  3   girl  female\n",
       "3  1.0 2022-01-14  1.0  3  woman  female"
      ]
     },
     "execution_count": 246,
     "metadata": {},
     "output_type": "execute_result"
    }
   ],
   "source": [
    "df2 = pd.DataFrame(\n",
    "    {                                                                        #Opening Dictionary\n",
    "        \"A\": 1.0,\n",
    "        \"B\": pd.Timestamp(\"20220114\"),\n",
    "        \"C\": pd.Series(1, index=list(range(4)), dtype=\"float64\"),\n",
    "        \"D\": np.array([3] * 4, dtype=\"int64\"),\n",
    "        \"E\": pd.Categorical([\"girl\", \"woman\", \"girl\", \"woman\"]),\n",
    "        \"F\": \"female\",     \n",
    "    }\n",
    ")\n",
    "\n",
    "df2"
   ]
  },
  {
   "cell_type": "code",
   "execution_count": 247,
   "metadata": {},
   "outputs": [
    {
     "data": {
      "text/plain": [
       "A           float64\n",
       "B    datetime64[ns]\n",
       "C           float64\n",
       "D             int64\n",
       "E          category\n",
       "F            object\n",
       "dtype: object"
      ]
     },
     "execution_count": 247,
     "metadata": {},
     "output_type": "execute_result"
    }
   ],
   "source": [
    "# To query about data type\n",
    "df2.dtypes"
   ]
  },
  {
   "cell_type": "markdown",
   "metadata": {},
   "source": [
    "### 4. Data query, guaging, extracting, summary, slicing, and sorting"
   ]
  },
  {
   "cell_type": "markdown",
   "metadata": {},
   "source": [
    "**4a. Using .head and .tail to find the end and beinging for the dataframe**"
   ]
  },
  {
   "cell_type": "code",
   "execution_count": 248,
   "metadata": {},
   "outputs": [
    {
     "data": {
      "text/html": [
       "<div>\n",
       "<style scoped>\n",
       "    .dataframe tbody tr th:only-of-type {\n",
       "        vertical-align: middle;\n",
       "    }\n",
       "\n",
       "    .dataframe tbody tr th {\n",
       "        vertical-align: top;\n",
       "    }\n",
       "\n",
       "    .dataframe thead th {\n",
       "        text-align: right;\n",
       "    }\n",
       "</style>\n",
       "<table border=\"1\" class=\"dataframe\">\n",
       "  <thead>\n",
       "    <tr style=\"text-align: right;\">\n",
       "      <th></th>\n",
       "      <th>A</th>\n",
       "      <th>B</th>\n",
       "      <th>C</th>\n",
       "      <th>D</th>\n",
       "    </tr>\n",
       "  </thead>\n",
       "  <tbody>\n",
       "    <tr>\n",
       "      <th>2022-08-21</th>\n",
       "      <td>-1.015768</td>\n",
       "      <td>0.776747</td>\n",
       "      <td>-1.457461</td>\n",
       "      <td>-1.470606</td>\n",
       "    </tr>\n",
       "    <tr>\n",
       "      <th>2022-08-22</th>\n",
       "      <td>0.184745</td>\n",
       "      <td>-0.042064</td>\n",
       "      <td>-1.019965</td>\n",
       "      <td>-1.056306</td>\n",
       "    </tr>\n",
       "  </tbody>\n",
       "</table>\n",
       "</div>"
      ],
      "text/plain": [
       "                   A         B         C         D\n",
       "2022-08-21 -1.015768  0.776747 -1.457461 -1.470606\n",
       "2022-08-22  0.184745 -0.042064 -1.019965 -1.056306"
      ]
     },
     "execution_count": 248,
     "metadata": {},
     "output_type": "execute_result"
    }
   ],
   "source": [
    "df.head(2)"
   ]
  },
  {
   "cell_type": "code",
   "execution_count": 249,
   "metadata": {},
   "outputs": [
    {
     "data": {
      "text/html": [
       "<div>\n",
       "<style scoped>\n",
       "    .dataframe tbody tr th:only-of-type {\n",
       "        vertical-align: middle;\n",
       "    }\n",
       "\n",
       "    .dataframe tbody tr th {\n",
       "        vertical-align: top;\n",
       "    }\n",
       "\n",
       "    .dataframe thead th {\n",
       "        text-align: right;\n",
       "    }\n",
       "</style>\n",
       "<table border=\"1\" class=\"dataframe\">\n",
       "  <thead>\n",
       "    <tr style=\"text-align: right;\">\n",
       "      <th></th>\n",
       "      <th>A</th>\n",
       "      <th>B</th>\n",
       "      <th>C</th>\n",
       "      <th>D</th>\n",
       "    </tr>\n",
       "  </thead>\n",
       "  <tbody>\n",
       "    <tr>\n",
       "      <th>2022-08-26</th>\n",
       "      <td>-0.141788</td>\n",
       "      <td>0.692611</td>\n",
       "      <td>-1.796206</td>\n",
       "      <td>-0.504054</td>\n",
       "    </tr>\n",
       "    <tr>\n",
       "      <th>2022-08-27</th>\n",
       "      <td>-0.254634</td>\n",
       "      <td>-1.194663</td>\n",
       "      <td>1.391343</td>\n",
       "      <td>-1.131210</td>\n",
       "    </tr>\n",
       "  </tbody>\n",
       "</table>\n",
       "</div>"
      ],
      "text/plain": [
       "                   A         B         C         D\n",
       "2022-08-26 -0.141788  0.692611 -1.796206 -0.504054\n",
       "2022-08-27 -0.254634 -1.194663  1.391343 -1.131210"
      ]
     },
     "execution_count": 249,
     "metadata": {},
     "output_type": "execute_result"
    }
   ],
   "source": [
    "df.tail(2)"
   ]
  },
  {
   "cell_type": "markdown",
   "metadata": {},
   "source": [
    "**4b. Finding index of the dataframe - Extract Index of dataframe**"
   ]
  },
  {
   "cell_type": "code",
   "execution_count": 250,
   "metadata": {},
   "outputs": [
    {
     "data": {
      "text/plain": [
       "DatetimeIndex(['2022-08-21', '2022-08-22', '2022-08-23', '2022-08-24',\n",
       "               '2022-08-25', '2022-08-26', '2022-08-27'],\n",
       "              dtype='datetime64[ns]', freq='D')"
      ]
     },
     "execution_count": 250,
     "metadata": {},
     "output_type": "execute_result"
    }
   ],
   "source": [
    "df.index"
   ]
  },
  {
   "cell_type": "code",
   "execution_count": 251,
   "metadata": {},
   "outputs": [
    {
     "data": {
      "text/plain": [
       "Int64Index([0, 1, 2, 3], dtype='int64')"
      ]
     },
     "execution_count": 251,
     "metadata": {},
     "output_type": "execute_result"
    }
   ],
   "source": [
    "df2.index"
   ]
  },
  {
   "cell_type": "markdown",
   "metadata": {},
   "source": [
    "**4c. Changing *Pandas* Dataframe into *NumPy* Array - Extract data into array**"
   ]
  },
  {
   "cell_type": "code",
   "execution_count": 252,
   "metadata": {},
   "outputs": [
    {
     "data": {
      "text/plain": [
       "array([[-1.01576808,  0.77674745, -1.4574611 , -1.47060566],\n",
       "       [ 0.18474451, -0.04206446, -1.01996535, -1.05630604],\n",
       "       [-0.18564556,  0.77592348, -1.92791157, -0.77161696],\n",
       "       [ 0.58739914,  0.04040125, -1.26123885, -0.75396036],\n",
       "       [-0.02212823, -0.65794049,  1.07144716, -0.55167208],\n",
       "       [-0.14178754,  0.69261054, -1.79620574, -0.50405407],\n",
       "       [-0.25463416, -1.19466281,  1.39134264, -1.13120979]])"
      ]
     },
     "execution_count": 252,
     "metadata": {},
     "output_type": "execute_result"
    }
   ],
   "source": [
    "df.to_numpy()"
   ]
  },
  {
   "cell_type": "code",
   "execution_count": 253,
   "metadata": {},
   "outputs": [
    {
     "data": {
      "text/plain": [
       "array([[1.0, Timestamp('2022-01-14 00:00:00'), 1.0, 3, 'girl', 'female'],\n",
       "       [1.0, Timestamp('2022-01-14 00:00:00'), 1.0, 3, 'woman', 'female'],\n",
       "       [1.0, Timestamp('2022-01-14 00:00:00'), 1.0, 3, 'girl', 'female'],\n",
       "       [1.0, Timestamp('2022-01-14 00:00:00'), 1.0, 3, 'woman', 'female']],\n",
       "      dtype=object)"
      ]
     },
     "execution_count": 253,
     "metadata": {},
     "output_type": "execute_result"
    }
   ],
   "source": [
    "df2.to_numpy()"
   ]
  },
  {
   "cell_type": "markdown",
   "metadata": {},
   "source": [
    "**4d. Extract dataframe column heading**"
   ]
  },
  {
   "cell_type": "code",
   "execution_count": 254,
   "metadata": {},
   "outputs": [
    {
     "data": {
      "text/plain": [
       "['A', 'B', 'C', 'D']"
      ]
     },
     "execution_count": 254,
     "metadata": {},
     "output_type": "execute_result"
    }
   ],
   "source": [
    "list(df.columns)"
   ]
  },
  {
   "cell_type": "code",
   "execution_count": 255,
   "metadata": {},
   "outputs": [
    {
     "data": {
      "text/plain": [
       "['A', 'B', 'C', 'D', 'E', 'F']"
      ]
     },
     "execution_count": 255,
     "metadata": {},
     "output_type": "execute_result"
    }
   ],
   "source": [
    "list(df2.columns)"
   ]
  },
  {
   "cell_type": "markdown",
   "metadata": {},
   "source": [
    "**4f. Find the Statistical Overview of data in the dataframe column**"
   ]
  },
  {
   "cell_type": "code",
   "execution_count": 256,
   "metadata": {},
   "outputs": [
    {
     "data": {
      "text/html": [
       "<div>\n",
       "<style scoped>\n",
       "    .dataframe tbody tr th:only-of-type {\n",
       "        vertical-align: middle;\n",
       "    }\n",
       "\n",
       "    .dataframe tbody tr th {\n",
       "        vertical-align: top;\n",
       "    }\n",
       "\n",
       "    .dataframe thead th {\n",
       "        text-align: right;\n",
       "    }\n",
       "</style>\n",
       "<table border=\"1\" class=\"dataframe\">\n",
       "  <thead>\n",
       "    <tr style=\"text-align: right;\">\n",
       "      <th></th>\n",
       "      <th>A</th>\n",
       "      <th>B</th>\n",
       "      <th>C</th>\n",
       "      <th>D</th>\n",
       "    </tr>\n",
       "  </thead>\n",
       "  <tbody>\n",
       "    <tr>\n",
       "      <th>count</th>\n",
       "      <td>7.000000</td>\n",
       "      <td>7.000000</td>\n",
       "      <td>7.000000</td>\n",
       "      <td>7.000000</td>\n",
       "    </tr>\n",
       "    <tr>\n",
       "      <th>mean</th>\n",
       "      <td>-0.121117</td>\n",
       "      <td>0.055859</td>\n",
       "      <td>-0.714285</td>\n",
       "      <td>-0.891346</td>\n",
       "    </tr>\n",
       "    <tr>\n",
       "      <th>std</th>\n",
       "      <td>0.487880</td>\n",
       "      <td>0.766678</td>\n",
       "      <td>1.366922</td>\n",
       "      <td>0.346139</td>\n",
       "    </tr>\n",
       "    <tr>\n",
       "      <th>min</th>\n",
       "      <td>-1.015768</td>\n",
       "      <td>-1.194663</td>\n",
       "      <td>-1.927912</td>\n",
       "      <td>-1.470606</td>\n",
       "    </tr>\n",
       "    <tr>\n",
       "      <th>25%</th>\n",
       "      <td>-0.220140</td>\n",
       "      <td>-0.350002</td>\n",
       "      <td>-1.626833</td>\n",
       "      <td>-1.093758</td>\n",
       "    </tr>\n",
       "    <tr>\n",
       "      <th>50%</th>\n",
       "      <td>-0.141788</td>\n",
       "      <td>0.040401</td>\n",
       "      <td>-1.261239</td>\n",
       "      <td>-0.771617</td>\n",
       "    </tr>\n",
       "    <tr>\n",
       "      <th>75%</th>\n",
       "      <td>0.081308</td>\n",
       "      <td>0.734267</td>\n",
       "      <td>0.025741</td>\n",
       "      <td>-0.652816</td>\n",
       "    </tr>\n",
       "    <tr>\n",
       "      <th>max</th>\n",
       "      <td>0.587399</td>\n",
       "      <td>0.776747</td>\n",
       "      <td>1.391343</td>\n",
       "      <td>-0.504054</td>\n",
       "    </tr>\n",
       "  </tbody>\n",
       "</table>\n",
       "</div>"
      ],
      "text/plain": [
       "              A         B         C         D\n",
       "count  7.000000  7.000000  7.000000  7.000000\n",
       "mean  -0.121117  0.055859 -0.714285 -0.891346\n",
       "std    0.487880  0.766678  1.366922  0.346139\n",
       "min   -1.015768 -1.194663 -1.927912 -1.470606\n",
       "25%   -0.220140 -0.350002 -1.626833 -1.093758\n",
       "50%   -0.141788  0.040401 -1.261239 -0.771617\n",
       "75%    0.081308  0.734267  0.025741 -0.652816\n",
       "max    0.587399  0.776747  1.391343 -0.504054"
      ]
     },
     "execution_count": 256,
     "metadata": {},
     "output_type": "execute_result"
    }
   ],
   "source": [
    "df.describe()"
   ]
  },
  {
   "cell_type": "code",
   "execution_count": 257,
   "metadata": {},
   "outputs": [
    {
     "data": {
      "text/html": [
       "<div>\n",
       "<style scoped>\n",
       "    .dataframe tbody tr th:only-of-type {\n",
       "        vertical-align: middle;\n",
       "    }\n",
       "\n",
       "    .dataframe tbody tr th {\n",
       "        vertical-align: top;\n",
       "    }\n",
       "\n",
       "    .dataframe thead th {\n",
       "        text-align: right;\n",
       "    }\n",
       "</style>\n",
       "<table border=\"1\" class=\"dataframe\">\n",
       "  <thead>\n",
       "    <tr style=\"text-align: right;\">\n",
       "      <th></th>\n",
       "      <th>A</th>\n",
       "      <th>C</th>\n",
       "      <th>D</th>\n",
       "    </tr>\n",
       "  </thead>\n",
       "  <tbody>\n",
       "    <tr>\n",
       "      <th>count</th>\n",
       "      <td>4.0</td>\n",
       "      <td>4.0</td>\n",
       "      <td>4.0</td>\n",
       "    </tr>\n",
       "    <tr>\n",
       "      <th>mean</th>\n",
       "      <td>1.0</td>\n",
       "      <td>1.0</td>\n",
       "      <td>3.0</td>\n",
       "    </tr>\n",
       "    <tr>\n",
       "      <th>std</th>\n",
       "      <td>0.0</td>\n",
       "      <td>0.0</td>\n",
       "      <td>0.0</td>\n",
       "    </tr>\n",
       "    <tr>\n",
       "      <th>min</th>\n",
       "      <td>1.0</td>\n",
       "      <td>1.0</td>\n",
       "      <td>3.0</td>\n",
       "    </tr>\n",
       "    <tr>\n",
       "      <th>25%</th>\n",
       "      <td>1.0</td>\n",
       "      <td>1.0</td>\n",
       "      <td>3.0</td>\n",
       "    </tr>\n",
       "    <tr>\n",
       "      <th>50%</th>\n",
       "      <td>1.0</td>\n",
       "      <td>1.0</td>\n",
       "      <td>3.0</td>\n",
       "    </tr>\n",
       "    <tr>\n",
       "      <th>75%</th>\n",
       "      <td>1.0</td>\n",
       "      <td>1.0</td>\n",
       "      <td>3.0</td>\n",
       "    </tr>\n",
       "    <tr>\n",
       "      <th>max</th>\n",
       "      <td>1.0</td>\n",
       "      <td>1.0</td>\n",
       "      <td>3.0</td>\n",
       "    </tr>\n",
       "  </tbody>\n",
       "</table>\n",
       "</div>"
      ],
      "text/plain": [
       "         A    C    D\n",
       "count  4.0  4.0  4.0\n",
       "mean   1.0  1.0  3.0\n",
       "std    0.0  0.0  0.0\n",
       "min    1.0  1.0  3.0\n",
       "25%    1.0  1.0  3.0\n",
       "50%    1.0  1.0  3.0\n",
       "75%    1.0  1.0  3.0\n",
       "max    1.0  1.0  3.0"
      ]
     },
     "execution_count": 257,
     "metadata": {},
     "output_type": "execute_result"
    }
   ],
   "source": [
    "df2.describe()"
   ]
  },
  {
   "cell_type": "markdown",
   "metadata": {},
   "source": [
    "**4g. Transpose the data set from Column to Rows and Rows to Column**"
   ]
  },
  {
   "cell_type": "code",
   "execution_count": 258,
   "metadata": {},
   "outputs": [
    {
     "data": {
      "text/html": [
       "<div>\n",
       "<style scoped>\n",
       "    .dataframe tbody tr th:only-of-type {\n",
       "        vertical-align: middle;\n",
       "    }\n",
       "\n",
       "    .dataframe tbody tr th {\n",
       "        vertical-align: top;\n",
       "    }\n",
       "\n",
       "    .dataframe thead th {\n",
       "        text-align: right;\n",
       "    }\n",
       "</style>\n",
       "<table border=\"1\" class=\"dataframe\">\n",
       "  <thead>\n",
       "    <tr style=\"text-align: right;\">\n",
       "      <th></th>\n",
       "      <th>2022-08-21</th>\n",
       "      <th>2022-08-22</th>\n",
       "      <th>2022-08-23</th>\n",
       "      <th>2022-08-24</th>\n",
       "      <th>2022-08-25</th>\n",
       "      <th>2022-08-26</th>\n",
       "      <th>2022-08-27</th>\n",
       "    </tr>\n",
       "  </thead>\n",
       "  <tbody>\n",
       "    <tr>\n",
       "      <th>A</th>\n",
       "      <td>-1.015768</td>\n",
       "      <td>0.184745</td>\n",
       "      <td>-0.185646</td>\n",
       "      <td>0.587399</td>\n",
       "      <td>-0.022128</td>\n",
       "      <td>-0.141788</td>\n",
       "      <td>-0.254634</td>\n",
       "    </tr>\n",
       "    <tr>\n",
       "      <th>B</th>\n",
       "      <td>0.776747</td>\n",
       "      <td>-0.042064</td>\n",
       "      <td>0.775923</td>\n",
       "      <td>0.040401</td>\n",
       "      <td>-0.657940</td>\n",
       "      <td>0.692611</td>\n",
       "      <td>-1.194663</td>\n",
       "    </tr>\n",
       "    <tr>\n",
       "      <th>C</th>\n",
       "      <td>-1.457461</td>\n",
       "      <td>-1.019965</td>\n",
       "      <td>-1.927912</td>\n",
       "      <td>-1.261239</td>\n",
       "      <td>1.071447</td>\n",
       "      <td>-1.796206</td>\n",
       "      <td>1.391343</td>\n",
       "    </tr>\n",
       "    <tr>\n",
       "      <th>D</th>\n",
       "      <td>-1.470606</td>\n",
       "      <td>-1.056306</td>\n",
       "      <td>-0.771617</td>\n",
       "      <td>-0.753960</td>\n",
       "      <td>-0.551672</td>\n",
       "      <td>-0.504054</td>\n",
       "      <td>-1.131210</td>\n",
       "    </tr>\n",
       "  </tbody>\n",
       "</table>\n",
       "</div>"
      ],
      "text/plain": [
       "   2022-08-21  2022-08-22  2022-08-23  2022-08-24  2022-08-25  2022-08-26  \\\n",
       "A   -1.015768    0.184745   -0.185646    0.587399   -0.022128   -0.141788   \n",
       "B    0.776747   -0.042064    0.775923    0.040401   -0.657940    0.692611   \n",
       "C   -1.457461   -1.019965   -1.927912   -1.261239    1.071447   -1.796206   \n",
       "D   -1.470606   -1.056306   -0.771617   -0.753960   -0.551672   -0.504054   \n",
       "\n",
       "   2022-08-27  \n",
       "A   -0.254634  \n",
       "B   -1.194663  \n",
       "C    1.391343  \n",
       "D   -1.131210  "
      ]
     },
     "execution_count": 258,
     "metadata": {},
     "output_type": "execute_result"
    }
   ],
   "source": [
    "df.T"
   ]
  },
  {
   "cell_type": "code",
   "execution_count": 259,
   "metadata": {},
   "outputs": [
    {
     "data": {
      "text/html": [
       "<div>\n",
       "<style scoped>\n",
       "    .dataframe tbody tr th:only-of-type {\n",
       "        vertical-align: middle;\n",
       "    }\n",
       "\n",
       "    .dataframe tbody tr th {\n",
       "        vertical-align: top;\n",
       "    }\n",
       "\n",
       "    .dataframe thead th {\n",
       "        text-align: right;\n",
       "    }\n",
       "</style>\n",
       "<table border=\"1\" class=\"dataframe\">\n",
       "  <thead>\n",
       "    <tr style=\"text-align: right;\">\n",
       "      <th></th>\n",
       "      <th>0</th>\n",
       "      <th>1</th>\n",
       "      <th>2</th>\n",
       "      <th>3</th>\n",
       "    </tr>\n",
       "  </thead>\n",
       "  <tbody>\n",
       "    <tr>\n",
       "      <th>A</th>\n",
       "      <td>1.0</td>\n",
       "      <td>1.0</td>\n",
       "      <td>1.0</td>\n",
       "      <td>1.0</td>\n",
       "    </tr>\n",
       "    <tr>\n",
       "      <th>B</th>\n",
       "      <td>2022-01-14 00:00:00</td>\n",
       "      <td>2022-01-14 00:00:00</td>\n",
       "      <td>2022-01-14 00:00:00</td>\n",
       "      <td>2022-01-14 00:00:00</td>\n",
       "    </tr>\n",
       "    <tr>\n",
       "      <th>C</th>\n",
       "      <td>1.0</td>\n",
       "      <td>1.0</td>\n",
       "      <td>1.0</td>\n",
       "      <td>1.0</td>\n",
       "    </tr>\n",
       "    <tr>\n",
       "      <th>D</th>\n",
       "      <td>3</td>\n",
       "      <td>3</td>\n",
       "      <td>3</td>\n",
       "      <td>3</td>\n",
       "    </tr>\n",
       "    <tr>\n",
       "      <th>E</th>\n",
       "      <td>girl</td>\n",
       "      <td>woman</td>\n",
       "      <td>girl</td>\n",
       "      <td>woman</td>\n",
       "    </tr>\n",
       "    <tr>\n",
       "      <th>F</th>\n",
       "      <td>female</td>\n",
       "      <td>female</td>\n",
       "      <td>female</td>\n",
       "      <td>female</td>\n",
       "    </tr>\n",
       "  </tbody>\n",
       "</table>\n",
       "</div>"
      ],
      "text/plain": [
       "                     0                    1                    2  \\\n",
       "A                  1.0                  1.0                  1.0   \n",
       "B  2022-01-14 00:00:00  2022-01-14 00:00:00  2022-01-14 00:00:00   \n",
       "C                  1.0                  1.0                  1.0   \n",
       "D                    3                    3                    3   \n",
       "E                 girl                woman                 girl   \n",
       "F               female               female               female   \n",
       "\n",
       "                     3  \n",
       "A                  1.0  \n",
       "B  2022-01-14 00:00:00  \n",
       "C                  1.0  \n",
       "D                    3  \n",
       "E                woman  \n",
       "F               female  "
      ]
     },
     "execution_count": 259,
     "metadata": {},
     "output_type": "execute_result"
    }
   ],
   "source": [
    "df2.T"
   ]
  },
  {
   "cell_type": "markdown",
   "metadata": {},
   "source": [
    "**4h. Sorting Dataframe in Pandas**"
   ]
  },
  {
   "cell_type": "code",
   "execution_count": 260,
   "metadata": {},
   "outputs": [
    {
     "data": {
      "text/html": [
       "<div>\n",
       "<style scoped>\n",
       "    .dataframe tbody tr th:only-of-type {\n",
       "        vertical-align: middle;\n",
       "    }\n",
       "\n",
       "    .dataframe tbody tr th {\n",
       "        vertical-align: top;\n",
       "    }\n",
       "\n",
       "    .dataframe thead th {\n",
       "        text-align: right;\n",
       "    }\n",
       "</style>\n",
       "<table border=\"1\" class=\"dataframe\">\n",
       "  <thead>\n",
       "    <tr style=\"text-align: right;\">\n",
       "      <th></th>\n",
       "      <th>D</th>\n",
       "      <th>C</th>\n",
       "      <th>B</th>\n",
       "      <th>A</th>\n",
       "    </tr>\n",
       "  </thead>\n",
       "  <tbody>\n",
       "    <tr>\n",
       "      <th>2022-08-21</th>\n",
       "      <td>-1.470606</td>\n",
       "      <td>-1.457461</td>\n",
       "      <td>0.776747</td>\n",
       "      <td>-1.015768</td>\n",
       "    </tr>\n",
       "    <tr>\n",
       "      <th>2022-08-22</th>\n",
       "      <td>-1.056306</td>\n",
       "      <td>-1.019965</td>\n",
       "      <td>-0.042064</td>\n",
       "      <td>0.184745</td>\n",
       "    </tr>\n",
       "    <tr>\n",
       "      <th>2022-08-23</th>\n",
       "      <td>-0.771617</td>\n",
       "      <td>-1.927912</td>\n",
       "      <td>0.775923</td>\n",
       "      <td>-0.185646</td>\n",
       "    </tr>\n",
       "    <tr>\n",
       "      <th>2022-08-24</th>\n",
       "      <td>-0.753960</td>\n",
       "      <td>-1.261239</td>\n",
       "      <td>0.040401</td>\n",
       "      <td>0.587399</td>\n",
       "    </tr>\n",
       "    <tr>\n",
       "      <th>2022-08-25</th>\n",
       "      <td>-0.551672</td>\n",
       "      <td>1.071447</td>\n",
       "      <td>-0.657940</td>\n",
       "      <td>-0.022128</td>\n",
       "    </tr>\n",
       "    <tr>\n",
       "      <th>2022-08-26</th>\n",
       "      <td>-0.504054</td>\n",
       "      <td>-1.796206</td>\n",
       "      <td>0.692611</td>\n",
       "      <td>-0.141788</td>\n",
       "    </tr>\n",
       "    <tr>\n",
       "      <th>2022-08-27</th>\n",
       "      <td>-1.131210</td>\n",
       "      <td>1.391343</td>\n",
       "      <td>-1.194663</td>\n",
       "      <td>-0.254634</td>\n",
       "    </tr>\n",
       "  </tbody>\n",
       "</table>\n",
       "</div>"
      ],
      "text/plain": [
       "                   D         C         B         A\n",
       "2022-08-21 -1.470606 -1.457461  0.776747 -1.015768\n",
       "2022-08-22 -1.056306 -1.019965 -0.042064  0.184745\n",
       "2022-08-23 -0.771617 -1.927912  0.775923 -0.185646\n",
       "2022-08-24 -0.753960 -1.261239  0.040401  0.587399\n",
       "2022-08-25 -0.551672  1.071447 -0.657940 -0.022128\n",
       "2022-08-26 -0.504054 -1.796206  0.692611 -0.141788\n",
       "2022-08-27 -1.131210  1.391343 -1.194663 -0.254634"
      ]
     },
     "execution_count": 260,
     "metadata": {},
     "output_type": "execute_result"
    }
   ],
   "source": [
    "# 1. Sorting the index\n",
    "df.sort_index(axis=1, ascending=False)"
   ]
  },
  {
   "cell_type": "code",
   "execution_count": 261,
   "metadata": {},
   "outputs": [
    {
     "data": {
      "text/html": [
       "<div>\n",
       "<style scoped>\n",
       "    .dataframe tbody tr th:only-of-type {\n",
       "        vertical-align: middle;\n",
       "    }\n",
       "\n",
       "    .dataframe tbody tr th {\n",
       "        vertical-align: top;\n",
       "    }\n",
       "\n",
       "    .dataframe thead th {\n",
       "        text-align: right;\n",
       "    }\n",
       "</style>\n",
       "<table border=\"1\" class=\"dataframe\">\n",
       "  <thead>\n",
       "    <tr style=\"text-align: right;\">\n",
       "      <th></th>\n",
       "      <th>A</th>\n",
       "      <th>B</th>\n",
       "      <th>C</th>\n",
       "      <th>D</th>\n",
       "    </tr>\n",
       "  </thead>\n",
       "  <tbody>\n",
       "    <tr>\n",
       "      <th>2022-08-27</th>\n",
       "      <td>-0.254634</td>\n",
       "      <td>-1.194663</td>\n",
       "      <td>1.391343</td>\n",
       "      <td>-1.131210</td>\n",
       "    </tr>\n",
       "    <tr>\n",
       "      <th>2022-08-26</th>\n",
       "      <td>-0.141788</td>\n",
       "      <td>0.692611</td>\n",
       "      <td>-1.796206</td>\n",
       "      <td>-0.504054</td>\n",
       "    </tr>\n",
       "    <tr>\n",
       "      <th>2022-08-25</th>\n",
       "      <td>-0.022128</td>\n",
       "      <td>-0.657940</td>\n",
       "      <td>1.071447</td>\n",
       "      <td>-0.551672</td>\n",
       "    </tr>\n",
       "    <tr>\n",
       "      <th>2022-08-24</th>\n",
       "      <td>0.587399</td>\n",
       "      <td>0.040401</td>\n",
       "      <td>-1.261239</td>\n",
       "      <td>-0.753960</td>\n",
       "    </tr>\n",
       "    <tr>\n",
       "      <th>2022-08-23</th>\n",
       "      <td>-0.185646</td>\n",
       "      <td>0.775923</td>\n",
       "      <td>-1.927912</td>\n",
       "      <td>-0.771617</td>\n",
       "    </tr>\n",
       "    <tr>\n",
       "      <th>2022-08-22</th>\n",
       "      <td>0.184745</td>\n",
       "      <td>-0.042064</td>\n",
       "      <td>-1.019965</td>\n",
       "      <td>-1.056306</td>\n",
       "    </tr>\n",
       "    <tr>\n",
       "      <th>2022-08-21</th>\n",
       "      <td>-1.015768</td>\n",
       "      <td>0.776747</td>\n",
       "      <td>-1.457461</td>\n",
       "      <td>-1.470606</td>\n",
       "    </tr>\n",
       "  </tbody>\n",
       "</table>\n",
       "</div>"
      ],
      "text/plain": [
       "                   A         B         C         D\n",
       "2022-08-27 -0.254634 -1.194663  1.391343 -1.131210\n",
       "2022-08-26 -0.141788  0.692611 -1.796206 -0.504054\n",
       "2022-08-25 -0.022128 -0.657940  1.071447 -0.551672\n",
       "2022-08-24  0.587399  0.040401 -1.261239 -0.753960\n",
       "2022-08-23 -0.185646  0.775923 -1.927912 -0.771617\n",
       "2022-08-22  0.184745 -0.042064 -1.019965 -1.056306\n",
       "2022-08-21 -1.015768  0.776747 -1.457461 -1.470606"
      ]
     },
     "execution_count": 261,
     "metadata": {},
     "output_type": "execute_result"
    }
   ],
   "source": [
    "# 2. Sorting the Coulmn Header\n",
    "df.sort_index(axis=0, ascending=False)"
   ]
  },
  {
   "cell_type": "code",
   "execution_count": 262,
   "metadata": {},
   "outputs": [
    {
     "data": {
      "text/html": [
       "<div>\n",
       "<style scoped>\n",
       "    .dataframe tbody tr th:only-of-type {\n",
       "        vertical-align: middle;\n",
       "    }\n",
       "\n",
       "    .dataframe tbody tr th {\n",
       "        vertical-align: top;\n",
       "    }\n",
       "\n",
       "    .dataframe thead th {\n",
       "        text-align: right;\n",
       "    }\n",
       "</style>\n",
       "<table border=\"1\" class=\"dataframe\">\n",
       "  <thead>\n",
       "    <tr style=\"text-align: right;\">\n",
       "      <th></th>\n",
       "      <th>A</th>\n",
       "      <th>B</th>\n",
       "      <th>C</th>\n",
       "      <th>D</th>\n",
       "    </tr>\n",
       "  </thead>\n",
       "  <tbody>\n",
       "    <tr>\n",
       "      <th>2022-08-27</th>\n",
       "      <td>-0.254634</td>\n",
       "      <td>-1.194663</td>\n",
       "      <td>1.391343</td>\n",
       "      <td>-1.131210</td>\n",
       "    </tr>\n",
       "    <tr>\n",
       "      <th>2022-08-25</th>\n",
       "      <td>-0.022128</td>\n",
       "      <td>-0.657940</td>\n",
       "      <td>1.071447</td>\n",
       "      <td>-0.551672</td>\n",
       "    </tr>\n",
       "    <tr>\n",
       "      <th>2022-08-22</th>\n",
       "      <td>0.184745</td>\n",
       "      <td>-0.042064</td>\n",
       "      <td>-1.019965</td>\n",
       "      <td>-1.056306</td>\n",
       "    </tr>\n",
       "    <tr>\n",
       "      <th>2022-08-24</th>\n",
       "      <td>0.587399</td>\n",
       "      <td>0.040401</td>\n",
       "      <td>-1.261239</td>\n",
       "      <td>-0.753960</td>\n",
       "    </tr>\n",
       "    <tr>\n",
       "      <th>2022-08-26</th>\n",
       "      <td>-0.141788</td>\n",
       "      <td>0.692611</td>\n",
       "      <td>-1.796206</td>\n",
       "      <td>-0.504054</td>\n",
       "    </tr>\n",
       "    <tr>\n",
       "      <th>2022-08-23</th>\n",
       "      <td>-0.185646</td>\n",
       "      <td>0.775923</td>\n",
       "      <td>-1.927912</td>\n",
       "      <td>-0.771617</td>\n",
       "    </tr>\n",
       "    <tr>\n",
       "      <th>2022-08-21</th>\n",
       "      <td>-1.015768</td>\n",
       "      <td>0.776747</td>\n",
       "      <td>-1.457461</td>\n",
       "      <td>-1.470606</td>\n",
       "    </tr>\n",
       "  </tbody>\n",
       "</table>\n",
       "</div>"
      ],
      "text/plain": [
       "                   A         B         C         D\n",
       "2022-08-27 -0.254634 -1.194663  1.391343 -1.131210\n",
       "2022-08-25 -0.022128 -0.657940  1.071447 -0.551672\n",
       "2022-08-22  0.184745 -0.042064 -1.019965 -1.056306\n",
       "2022-08-24  0.587399  0.040401 -1.261239 -0.753960\n",
       "2022-08-26 -0.141788  0.692611 -1.796206 -0.504054\n",
       "2022-08-23 -0.185646  0.775923 -1.927912 -0.771617\n",
       "2022-08-21 -1.015768  0.776747 -1.457461 -1.470606"
      ]
     },
     "execution_count": 262,
     "metadata": {},
     "output_type": "execute_result"
    }
   ],
   "source": [
    "# 3. Sorting based on particular Column - in this example we selected \"B\"\n",
    "df.sort_values(by=\"B\", ascending=True)"
   ]
  },
  {
   "cell_type": "markdown",
   "metadata": {},
   "source": [
    "**4i. Extracting individual column data from the dataframe**"
   ]
  },
  {
   "cell_type": "code",
   "execution_count": 263,
   "metadata": {},
   "outputs": [
    {
     "data": {
      "text/plain": [
       "2022-08-21   -1.457461\n",
       "2022-08-22   -1.019965\n",
       "2022-08-23   -1.927912\n",
       "2022-08-24   -1.261239\n",
       "2022-08-25    1.071447\n",
       "2022-08-26   -1.796206\n",
       "2022-08-27    1.391343\n",
       "Freq: D, Name: C, dtype: float64"
      ]
     },
     "execution_count": 263,
     "metadata": {},
     "output_type": "execute_result"
    }
   ],
   "source": [
    "# Extracting only data from column C\n",
    "df[\"C\"]"
   ]
  },
  {
   "cell_type": "markdown",
   "metadata": {},
   "source": [
    "**4j. Extracting a particular slice of the data - row wise in Pandas**"
   ]
  },
  {
   "cell_type": "code",
   "execution_count": 264,
   "metadata": {},
   "outputs": [
    {
     "data": {
      "text/html": [
       "<div>\n",
       "<style scoped>\n",
       "    .dataframe tbody tr th:only-of-type {\n",
       "        vertical-align: middle;\n",
       "    }\n",
       "\n",
       "    .dataframe tbody tr th {\n",
       "        vertical-align: top;\n",
       "    }\n",
       "\n",
       "    .dataframe thead th {\n",
       "        text-align: right;\n",
       "    }\n",
       "</style>\n",
       "<table border=\"1\" class=\"dataframe\">\n",
       "  <thead>\n",
       "    <tr style=\"text-align: right;\">\n",
       "      <th></th>\n",
       "      <th>A</th>\n",
       "      <th>B</th>\n",
       "      <th>C</th>\n",
       "      <th>D</th>\n",
       "      <th>E</th>\n",
       "      <th>F</th>\n",
       "    </tr>\n",
       "  </thead>\n",
       "  <tbody>\n",
       "    <tr>\n",
       "      <th>1</th>\n",
       "      <td>1.0</td>\n",
       "      <td>2022-01-14</td>\n",
       "      <td>1.0</td>\n",
       "      <td>3</td>\n",
       "      <td>woman</td>\n",
       "      <td>female</td>\n",
       "    </tr>\n",
       "    <tr>\n",
       "      <th>2</th>\n",
       "      <td>1.0</td>\n",
       "      <td>2022-01-14</td>\n",
       "      <td>1.0</td>\n",
       "      <td>3</td>\n",
       "      <td>girl</td>\n",
       "      <td>female</td>\n",
       "    </tr>\n",
       "  </tbody>\n",
       "</table>\n",
       "</div>"
      ],
      "text/plain": [
       "     A          B    C  D      E       F\n",
       "1  1.0 2022-01-14  1.0  3  woman  female\n",
       "2  1.0 2022-01-14  1.0  3   girl  female"
      ]
     },
     "execution_count": 264,
     "metadata": {},
     "output_type": "execute_result"
    }
   ],
   "source": [
    "df2[1:3]"
   ]
  },
  {
   "cell_type": "code",
   "execution_count": 265,
   "metadata": {},
   "outputs": [
    {
     "data": {
      "text/html": [
       "<div>\n",
       "<style scoped>\n",
       "    .dataframe tbody tr th:only-of-type {\n",
       "        vertical-align: middle;\n",
       "    }\n",
       "\n",
       "    .dataframe tbody tr th {\n",
       "        vertical-align: top;\n",
       "    }\n",
       "\n",
       "    .dataframe thead th {\n",
       "        text-align: right;\n",
       "    }\n",
       "</style>\n",
       "<table border=\"1\" class=\"dataframe\">\n",
       "  <thead>\n",
       "    <tr style=\"text-align: right;\">\n",
       "      <th></th>\n",
       "      <th>A</th>\n",
       "      <th>B</th>\n",
       "      <th>C</th>\n",
       "      <th>D</th>\n",
       "    </tr>\n",
       "  </thead>\n",
       "  <tbody>\n",
       "    <tr>\n",
       "      <th>2022-08-23</th>\n",
       "      <td>-0.185646</td>\n",
       "      <td>0.775923</td>\n",
       "      <td>-1.927912</td>\n",
       "      <td>-0.771617</td>\n",
       "    </tr>\n",
       "    <tr>\n",
       "      <th>2022-08-24</th>\n",
       "      <td>0.587399</td>\n",
       "      <td>0.040401</td>\n",
       "      <td>-1.261239</td>\n",
       "      <td>-0.753960</td>\n",
       "    </tr>\n",
       "    <tr>\n",
       "      <th>2022-08-25</th>\n",
       "      <td>-0.022128</td>\n",
       "      <td>-0.657940</td>\n",
       "      <td>1.071447</td>\n",
       "      <td>-0.551672</td>\n",
       "    </tr>\n",
       "  </tbody>\n",
       "</table>\n",
       "</div>"
      ],
      "text/plain": [
       "                   A         B         C         D\n",
       "2022-08-23 -0.185646  0.775923 -1.927912 -0.771617\n",
       "2022-08-24  0.587399  0.040401 -1.261239 -0.753960\n",
       "2022-08-25 -0.022128 -0.657940  1.071447 -0.551672"
      ]
     },
     "execution_count": 265,
     "metadata": {},
     "output_type": "execute_result"
    }
   ],
   "source": [
    "df[2:5]"
   ]
  },
  {
   "cell_type": "markdown",
   "metadata": {},
   "source": [
    "**4k. (Cross section) Select a data range by Lables from Dataframe in Pandas**"
   ]
  },
  {
   "cell_type": "code",
   "execution_count": 266,
   "metadata": {},
   "outputs": [
    {
     "data": {
      "text/plain": [
       "A   -1.015768\n",
       "B    0.776747\n",
       "C   -1.457461\n",
       "D   -1.470606\n",
       "Name: 2022-08-21 00:00:00, dtype: float64"
      ]
     },
     "execution_count": 266,
     "metadata": {},
     "output_type": "execute_result"
    }
   ],
   "source": [
    "df.loc[dates[0]]"
   ]
  },
  {
   "cell_type": "code",
   "execution_count": 267,
   "metadata": {},
   "outputs": [
    {
     "data": {
      "text/plain": [
       "A   -0.022128\n",
       "B   -0.657940\n",
       "C    1.071447\n",
       "D   -0.551672\n",
       "Name: 2022-08-25 00:00:00, dtype: float64"
      ]
     },
     "execution_count": 267,
     "metadata": {},
     "output_type": "execute_result"
    }
   ],
   "source": [
    "df.loc[dates[4]]"
   ]
  },
  {
   "cell_type": "code",
   "execution_count": 268,
   "metadata": {},
   "outputs": [
    {
     "data": {
      "text/html": [
       "<div>\n",
       "<style scoped>\n",
       "    .dataframe tbody tr th:only-of-type {\n",
       "        vertical-align: middle;\n",
       "    }\n",
       "\n",
       "    .dataframe tbody tr th {\n",
       "        vertical-align: top;\n",
       "    }\n",
       "\n",
       "    .dataframe thead th {\n",
       "        text-align: right;\n",
       "    }\n",
       "</style>\n",
       "<table border=\"1\" class=\"dataframe\">\n",
       "  <thead>\n",
       "    <tr style=\"text-align: right;\">\n",
       "      <th></th>\n",
       "      <th>A</th>\n",
       "      <th>C</th>\n",
       "    </tr>\n",
       "  </thead>\n",
       "  <tbody>\n",
       "    <tr>\n",
       "      <th>2022-08-21</th>\n",
       "      <td>-1.015768</td>\n",
       "      <td>-1.457461</td>\n",
       "    </tr>\n",
       "    <tr>\n",
       "      <th>2022-08-22</th>\n",
       "      <td>0.184745</td>\n",
       "      <td>-1.019965</td>\n",
       "    </tr>\n",
       "    <tr>\n",
       "      <th>2022-08-23</th>\n",
       "      <td>-0.185646</td>\n",
       "      <td>-1.927912</td>\n",
       "    </tr>\n",
       "    <tr>\n",
       "      <th>2022-08-24</th>\n",
       "      <td>0.587399</td>\n",
       "      <td>-1.261239</td>\n",
       "    </tr>\n",
       "    <tr>\n",
       "      <th>2022-08-25</th>\n",
       "      <td>-0.022128</td>\n",
       "      <td>1.071447</td>\n",
       "    </tr>\n",
       "    <tr>\n",
       "      <th>2022-08-26</th>\n",
       "      <td>-0.141788</td>\n",
       "      <td>-1.796206</td>\n",
       "    </tr>\n",
       "    <tr>\n",
       "      <th>2022-08-27</th>\n",
       "      <td>-0.254634</td>\n",
       "      <td>1.391343</td>\n",
       "    </tr>\n",
       "  </tbody>\n",
       "</table>\n",
       "</div>"
      ],
      "text/plain": [
       "                   A         C\n",
       "2022-08-21 -1.015768 -1.457461\n",
       "2022-08-22  0.184745 -1.019965\n",
       "2022-08-23 -0.185646 -1.927912\n",
       "2022-08-24  0.587399 -1.261239\n",
       "2022-08-25 -0.022128  1.071447\n",
       "2022-08-26 -0.141788 -1.796206\n",
       "2022-08-27 -0.254634  1.391343"
      ]
     },
     "execution_count": 268,
     "metadata": {},
     "output_type": "execute_result"
    }
   ],
   "source": [
    "df.loc[:,[\"A\",\"C\"]]                 #< ':' is representing the rows and [\"A\",\"C\"] is representing selected column A and C of dataframe df"
   ]
  },
  {
   "cell_type": "markdown",
   "metadata": {},
   "source": [
    ">Self Experimentation - **START**"
   ]
  },
  {
   "cell_type": "code",
   "execution_count": 269,
   "metadata": {},
   "outputs": [
    {
     "data": {
      "text/plain": [
       "2022-08-21    1.905951\n",
       "2022-08-22    0.479624\n",
       "2022-08-23    0.461267\n",
       "2022-08-24    1.662682\n",
       "2022-08-25    0.036036\n",
       "2022-08-26    0.367710\n",
       "2022-08-27    0.296555\n",
       "Freq: D, dtype: float64"
      ]
     },
     "execution_count": 269,
     "metadata": {},
     "output_type": "execute_result"
    }
   ],
   "source": [
    "#Using mathimatical formula between columns of Pandas Dataframe\n",
    "mathfor1 = ((df[\"A\"]*df[\"C\"])/df[\"B\"])%2\n",
    "mathfor1"
   ]
  },
  {
   "cell_type": "code",
   "execution_count": 270,
   "metadata": {},
   "outputs": [
    {
     "data": {
      "text/plain": [
       "pandas.core.series.Series"
      ]
     },
     "execution_count": 270,
     "metadata": {},
     "output_type": "execute_result"
    }
   ],
   "source": [
    "type(mathfor1)"
   ]
  },
  {
   "cell_type": "code",
   "execution_count": 271,
   "metadata": {},
   "outputs": [
    {
     "data": {
      "text/plain": [
       "0.46126741112675423"
      ]
     },
     "execution_count": 271,
     "metadata": {},
     "output_type": "execute_result"
    }
   ],
   "source": [
    "mathfor1.median()"
   ]
  },
  {
   "cell_type": "code",
   "execution_count": 272,
   "metadata": {},
   "outputs": [
    {
     "data": {
      "text/plain": [
       "[1.905950862286781,\n",
       " 0.4796243911654585,\n",
       " 0.46126741112675423,\n",
       " 1.6626819544630003,\n",
       " 0.03603552935996967,\n",
       " 0.3677096716965275,\n",
       " 0.29655511403243223]"
      ]
     },
     "execution_count": 272,
     "metadata": {},
     "output_type": "execute_result"
    }
   ],
   "source": [
    "list(mathfor1)"
   ]
  },
  {
   "cell_type": "markdown",
   "metadata": {},
   "source": [
    ">Self Experimentation - **END**"
   ]
  },
  {
   "cell_type": "code",
   "execution_count": 273,
   "metadata": {},
   "outputs": [
    {
     "data": {
      "text/html": [
       "<div>\n",
       "<style scoped>\n",
       "    .dataframe tbody tr th:only-of-type {\n",
       "        vertical-align: middle;\n",
       "    }\n",
       "\n",
       "    .dataframe tbody tr th {\n",
       "        vertical-align: top;\n",
       "    }\n",
       "\n",
       "    .dataframe thead th {\n",
       "        text-align: right;\n",
       "    }\n",
       "</style>\n",
       "<table border=\"1\" class=\"dataframe\">\n",
       "  <thead>\n",
       "    <tr style=\"text-align: right;\">\n",
       "      <th></th>\n",
       "      <th>A</th>\n",
       "      <th>B</th>\n",
       "    </tr>\n",
       "  </thead>\n",
       "  <tbody>\n",
       "    <tr>\n",
       "      <th>2022-08-22</th>\n",
       "      <td>0.184745</td>\n",
       "      <td>-0.042064</td>\n",
       "    </tr>\n",
       "    <tr>\n",
       "      <th>2022-08-26</th>\n",
       "      <td>-0.141788</td>\n",
       "      <td>0.692611</td>\n",
       "    </tr>\n",
       "  </tbody>\n",
       "</table>\n",
       "</div>"
      ],
      "text/plain": [
       "                   A         B\n",
       "2022-08-22  0.184745 -0.042064\n",
       "2022-08-26 -0.141788  0.692611"
      ]
     },
     "execution_count": 273,
     "metadata": {},
     "output_type": "execute_result"
    }
   ],
   "source": [
    "# extract selective index and column data. NOTE: Both are encapsulated in square bracket [] \n",
    "df.loc[[\"20220822\",\"20220826\"], [\"A\", \"B\"]]"
   ]
  },
  {
   "cell_type": "code",
   "execution_count": 274,
   "metadata": {},
   "outputs": [
    {
     "data": {
      "text/html": [
       "<div>\n",
       "<style scoped>\n",
       "    .dataframe tbody tr th:only-of-type {\n",
       "        vertical-align: middle;\n",
       "    }\n",
       "\n",
       "    .dataframe tbody tr th {\n",
       "        vertical-align: top;\n",
       "    }\n",
       "\n",
       "    .dataframe thead th {\n",
       "        text-align: right;\n",
       "    }\n",
       "</style>\n",
       "<table border=\"1\" class=\"dataframe\">\n",
       "  <thead>\n",
       "    <tr style=\"text-align: right;\">\n",
       "      <th></th>\n",
       "      <th>A</th>\n",
       "      <th>B</th>\n",
       "    </tr>\n",
       "  </thead>\n",
       "  <tbody>\n",
       "    <tr>\n",
       "      <th>2022-08-22</th>\n",
       "      <td>0.184745</td>\n",
       "      <td>-0.042064</td>\n",
       "    </tr>\n",
       "    <tr>\n",
       "      <th>2022-08-23</th>\n",
       "      <td>-0.185646</td>\n",
       "      <td>0.775923</td>\n",
       "    </tr>\n",
       "    <tr>\n",
       "      <th>2022-08-24</th>\n",
       "      <td>0.587399</td>\n",
       "      <td>0.040401</td>\n",
       "    </tr>\n",
       "    <tr>\n",
       "      <th>2022-08-25</th>\n",
       "      <td>-0.022128</td>\n",
       "      <td>-0.657940</td>\n",
       "    </tr>\n",
       "    <tr>\n",
       "      <th>2022-08-26</th>\n",
       "      <td>-0.141788</td>\n",
       "      <td>0.692611</td>\n",
       "    </tr>\n",
       "  </tbody>\n",
       "</table>\n",
       "</div>"
      ],
      "text/plain": [
       "                   A         B\n",
       "2022-08-22  0.184745 -0.042064\n",
       "2022-08-23 -0.185646  0.775923\n",
       "2022-08-24  0.587399  0.040401\n",
       "2022-08-25 -0.022128 -0.657940\n",
       "2022-08-26 -0.141788  0.692611"
      ]
     },
     "execution_count": 274,
     "metadata": {},
     "output_type": "execute_result"
    }
   ],
   "source": [
    "#extract selective range of index and selective column data. NOTE: When you are giving a range, you dont need to use square brackets []\n",
    "df.loc[\"20220822\":\"20220826\", [\"A\", \"B\"]] "
   ]
  },
  {
   "cell_type": "markdown",
   "metadata": {},
   "source": [
    "**4l. Extracting a single cell value of a dataframe in Pandas**"
   ]
  },
  {
   "cell_type": "code",
   "execution_count": 275,
   "metadata": {},
   "outputs": [
    {
     "data": {
      "text/plain": [
       "-1.015768084742185"
      ]
     },
     "execution_count": 275,
     "metadata": {},
     "output_type": "execute_result"
    }
   ],
   "source": [
    "df.at[dates[0],\"A\"]                         #< Value of a cell @ 0A"
   ]
  },
  {
   "cell_type": "code",
   "execution_count": 276,
   "metadata": {},
   "outputs": [
    {
     "data": {
      "text/plain": [
       "1.0714471560643368"
      ]
     },
     "execution_count": 276,
     "metadata": {},
     "output_type": "execute_result"
    }
   ],
   "source": [
    "df.at[dates[4],\"C\"]                         #< Value of a cell of specified date index in column i.e. 4C"
   ]
  },
  {
   "cell_type": "code",
   "execution_count": 277,
   "metadata": {},
   "outputs": [
    {
     "data": {
      "text/plain": [
       "'woman'"
      ]
     },
     "execution_count": 277,
     "metadata": {},
     "output_type": "execute_result"
    }
   ],
   "source": [
    "df2.at[3,\"E\"]                               #< Value of a cell @ 3E"
   ]
  },
  {
   "cell_type": "markdown",
   "metadata": {},
   "source": [
    "**4m. iloc function in Pandas**\\\n",
    "iloc” in pandas is used to select rows and columns by number, in the order that they appear in the data frame.\\\n",
    "You can imagine that each row has a row number from 0 to the total rows (data.shape[0]) and iloc[] allows selections based on these numbers."
   ]
  },
  {
   "cell_type": "code",
   "execution_count": 278,
   "metadata": {},
   "outputs": [
    {
     "data": {
      "text/html": [
       "<div>\n",
       "<style scoped>\n",
       "    .dataframe tbody tr th:only-of-type {\n",
       "        vertical-align: middle;\n",
       "    }\n",
       "\n",
       "    .dataframe tbody tr th {\n",
       "        vertical-align: top;\n",
       "    }\n",
       "\n",
       "    .dataframe thead th {\n",
       "        text-align: right;\n",
       "    }\n",
       "</style>\n",
       "<table border=\"1\" class=\"dataframe\">\n",
       "  <thead>\n",
       "    <tr style=\"text-align: right;\">\n",
       "      <th></th>\n",
       "      <th>A</th>\n",
       "      <th>B</th>\n",
       "      <th>C</th>\n",
       "      <th>D</th>\n",
       "    </tr>\n",
       "  </thead>\n",
       "  <tbody>\n",
       "    <tr>\n",
       "      <th>2022-08-22</th>\n",
       "      <td>0.184745</td>\n",
       "      <td>-0.042064</td>\n",
       "      <td>-1.019965</td>\n",
       "      <td>-1.056306</td>\n",
       "    </tr>\n",
       "    <tr>\n",
       "      <th>2022-08-23</th>\n",
       "      <td>-0.185646</td>\n",
       "      <td>0.775923</td>\n",
       "      <td>-1.927912</td>\n",
       "      <td>-0.771617</td>\n",
       "    </tr>\n",
       "    <tr>\n",
       "      <th>2022-08-24</th>\n",
       "      <td>0.587399</td>\n",
       "      <td>0.040401</td>\n",
       "      <td>-1.261239</td>\n",
       "      <td>-0.753960</td>\n",
       "    </tr>\n",
       "  </tbody>\n",
       "</table>\n",
       "</div>"
      ],
      "text/plain": [
       "                   A         B         C         D\n",
       "2022-08-22  0.184745 -0.042064 -1.019965 -1.056306\n",
       "2022-08-23 -0.185646  0.775923 -1.927912 -0.771617\n",
       "2022-08-24  0.587399  0.040401 -1.261239 -0.753960"
      ]
     },
     "execution_count": 278,
     "metadata": {},
     "output_type": "execute_result"
    }
   ],
   "source": [
    "df.iloc[1:4]                                #< returns an output for range 1A:3D"
   ]
  },
  {
   "cell_type": "code",
   "execution_count": 279,
   "metadata": {},
   "outputs": [
    {
     "data": {
      "text/html": [
       "<div>\n",
       "<style scoped>\n",
       "    .dataframe tbody tr th:only-of-type {\n",
       "        vertical-align: middle;\n",
       "    }\n",
       "\n",
       "    .dataframe tbody tr th {\n",
       "        vertical-align: top;\n",
       "    }\n",
       "\n",
       "    .dataframe thead th {\n",
       "        text-align: right;\n",
       "    }\n",
       "</style>\n",
       "<table border=\"1\" class=\"dataframe\">\n",
       "  <thead>\n",
       "    <tr style=\"text-align: right;\">\n",
       "      <th></th>\n",
       "      <th>A</th>\n",
       "      <th>B</th>\n",
       "      <th>C</th>\n",
       "      <th>D</th>\n",
       "    </tr>\n",
       "  </thead>\n",
       "  <tbody>\n",
       "    <tr>\n",
       "      <th>2022-08-22</th>\n",
       "      <td>0.184745</td>\n",
       "      <td>-0.042064</td>\n",
       "      <td>-1.019965</td>\n",
       "      <td>-1.056306</td>\n",
       "    </tr>\n",
       "    <tr>\n",
       "      <th>2022-08-23</th>\n",
       "      <td>-0.185646</td>\n",
       "      <td>0.775923</td>\n",
       "      <td>-1.927912</td>\n",
       "      <td>-0.771617</td>\n",
       "    </tr>\n",
       "    <tr>\n",
       "      <th>2022-08-24</th>\n",
       "      <td>0.587399</td>\n",
       "      <td>0.040401</td>\n",
       "      <td>-1.261239</td>\n",
       "      <td>-0.753960</td>\n",
       "    </tr>\n",
       "    <tr>\n",
       "      <th>2022-08-25</th>\n",
       "      <td>-0.022128</td>\n",
       "      <td>-0.657940</td>\n",
       "      <td>1.071447</td>\n",
       "      <td>-0.551672</td>\n",
       "    </tr>\n",
       "  </tbody>\n",
       "</table>\n",
       "</div>"
      ],
      "text/plain": [
       "                   A         B         C         D\n",
       "2022-08-22  0.184745 -0.042064 -1.019965 -1.056306\n",
       "2022-08-23 -0.185646  0.775923 -1.927912 -0.771617\n",
       "2022-08-24  0.587399  0.040401 -1.261239 -0.753960\n",
       "2022-08-25 -0.022128 -0.657940  1.071447 -0.551672"
      ]
     },
     "execution_count": 279,
     "metadata": {},
     "output_type": "execute_result"
    }
   ],
   "source": [
    "df.iloc[1:5,0:4]                                #< returns an output for range 1A:4D"
   ]
  },
  {
   "cell_type": "code",
   "execution_count": 280,
   "metadata": {},
   "outputs": [
    {
     "data": {
      "text/html": [
       "<div>\n",
       "<style scoped>\n",
       "    .dataframe tbody tr th:only-of-type {\n",
       "        vertical-align: middle;\n",
       "    }\n",
       "\n",
       "    .dataframe tbody tr th {\n",
       "        vertical-align: top;\n",
       "    }\n",
       "\n",
       "    .dataframe thead th {\n",
       "        text-align: right;\n",
       "    }\n",
       "</style>\n",
       "<table border=\"1\" class=\"dataframe\">\n",
       "  <thead>\n",
       "    <tr style=\"text-align: right;\">\n",
       "      <th></th>\n",
       "      <th>B</th>\n",
       "      <th>D</th>\n",
       "    </tr>\n",
       "  </thead>\n",
       "  <tbody>\n",
       "    <tr>\n",
       "      <th>2022-08-21</th>\n",
       "      <td>0.776747</td>\n",
       "      <td>-1.470606</td>\n",
       "    </tr>\n",
       "    <tr>\n",
       "      <th>2022-08-22</th>\n",
       "      <td>-0.042064</td>\n",
       "      <td>-1.056306</td>\n",
       "    </tr>\n",
       "    <tr>\n",
       "      <th>2022-08-23</th>\n",
       "      <td>0.775923</td>\n",
       "      <td>-0.771617</td>\n",
       "    </tr>\n",
       "    <tr>\n",
       "      <th>2022-08-24</th>\n",
       "      <td>0.040401</td>\n",
       "      <td>-0.753960</td>\n",
       "    </tr>\n",
       "    <tr>\n",
       "      <th>2022-08-25</th>\n",
       "      <td>-0.657940</td>\n",
       "      <td>-0.551672</td>\n",
       "    </tr>\n",
       "    <tr>\n",
       "      <th>2022-08-26</th>\n",
       "      <td>0.692611</td>\n",
       "      <td>-0.504054</td>\n",
       "    </tr>\n",
       "    <tr>\n",
       "      <th>2022-08-27</th>\n",
       "      <td>-1.194663</td>\n",
       "      <td>-1.131210</td>\n",
       "    </tr>\n",
       "  </tbody>\n",
       "</table>\n",
       "</div>"
      ],
      "text/plain": [
       "                   B         D\n",
       "2022-08-21  0.776747 -1.470606\n",
       "2022-08-22 -0.042064 -1.056306\n",
       "2022-08-23  0.775923 -0.771617\n",
       "2022-08-24  0.040401 -0.753960\n",
       "2022-08-25 -0.657940 -0.551672\n",
       "2022-08-26  0.692611 -0.504054\n",
       "2022-08-27 -1.194663 -1.131210"
      ]
     },
     "execution_count": 280,
     "metadata": {},
     "output_type": "execute_result"
    }
   ],
   "source": [
    "df.iloc[:,[1,3]]                                #< returns an output for selected column for an entire index"
   ]
  },
  {
   "cell_type": "code",
   "execution_count": 281,
   "metadata": {},
   "outputs": [
    {
     "data": {
      "text/html": [
       "<div>\n",
       "<style scoped>\n",
       "    .dataframe tbody tr th:only-of-type {\n",
       "        vertical-align: middle;\n",
       "    }\n",
       "\n",
       "    .dataframe tbody tr th {\n",
       "        vertical-align: top;\n",
       "    }\n",
       "\n",
       "    .dataframe thead th {\n",
       "        text-align: right;\n",
       "    }\n",
       "</style>\n",
       "<table border=\"1\" class=\"dataframe\">\n",
       "  <thead>\n",
       "    <tr style=\"text-align: right;\">\n",
       "      <th></th>\n",
       "      <th>B</th>\n",
       "      <th>C</th>\n",
       "    </tr>\n",
       "  </thead>\n",
       "  <tbody>\n",
       "    <tr>\n",
       "      <th>2022-08-21</th>\n",
       "      <td>0.776747</td>\n",
       "      <td>-1.457461</td>\n",
       "    </tr>\n",
       "    <tr>\n",
       "      <th>2022-08-22</th>\n",
       "      <td>-0.042064</td>\n",
       "      <td>-1.019965</td>\n",
       "    </tr>\n",
       "    <tr>\n",
       "      <th>2022-08-23</th>\n",
       "      <td>0.775923</td>\n",
       "      <td>-1.927912</td>\n",
       "    </tr>\n",
       "    <tr>\n",
       "      <th>2022-08-24</th>\n",
       "      <td>0.040401</td>\n",
       "      <td>-1.261239</td>\n",
       "    </tr>\n",
       "    <tr>\n",
       "      <th>2022-08-25</th>\n",
       "      <td>-0.657940</td>\n",
       "      <td>1.071447</td>\n",
       "    </tr>\n",
       "    <tr>\n",
       "      <th>2022-08-26</th>\n",
       "      <td>0.692611</td>\n",
       "      <td>-1.796206</td>\n",
       "    </tr>\n",
       "    <tr>\n",
       "      <th>2022-08-27</th>\n",
       "      <td>-1.194663</td>\n",
       "      <td>1.391343</td>\n",
       "    </tr>\n",
       "  </tbody>\n",
       "</table>\n",
       "</div>"
      ],
      "text/plain": [
       "                   B         C\n",
       "2022-08-21  0.776747 -1.457461\n",
       "2022-08-22 -0.042064 -1.019965\n",
       "2022-08-23  0.775923 -1.927912\n",
       "2022-08-24  0.040401 -1.261239\n",
       "2022-08-25 -0.657940  1.071447\n",
       "2022-08-26  0.692611 -1.796206\n",
       "2022-08-27 -1.194663  1.391343"
      ]
     },
     "execution_count": 281,
     "metadata": {},
     "output_type": "execute_result"
    }
   ],
   "source": [
    "df.iloc[:,1:3]                                  #< returns an output for range of selected column for an entire index"
   ]
  },
  {
   "cell_type": "markdown",
   "metadata": {},
   "source": [
    "### 5. Usage of Boolean operators in Pandas Dataframe for SELECTION or FILTRATION"
   ]
  },
  {
   "cell_type": "code",
   "execution_count": 282,
   "metadata": {},
   "outputs": [
    {
     "data": {
      "text/html": [
       "<div>\n",
       "<style scoped>\n",
       "    .dataframe tbody tr th:only-of-type {\n",
       "        vertical-align: middle;\n",
       "    }\n",
       "\n",
       "    .dataframe tbody tr th {\n",
       "        vertical-align: top;\n",
       "    }\n",
       "\n",
       "    .dataframe thead th {\n",
       "        text-align: right;\n",
       "    }\n",
       "</style>\n",
       "<table border=\"1\" class=\"dataframe\">\n",
       "  <thead>\n",
       "    <tr style=\"text-align: right;\">\n",
       "      <th></th>\n",
       "      <th>A</th>\n",
       "      <th>B</th>\n",
       "      <th>C</th>\n",
       "      <th>D</th>\n",
       "    </tr>\n",
       "  </thead>\n",
       "  <tbody>\n",
       "    <tr>\n",
       "      <th>2022-08-22</th>\n",
       "      <td>0.184745</td>\n",
       "      <td>-0.042064</td>\n",
       "      <td>-1.019965</td>\n",
       "      <td>-1.056306</td>\n",
       "    </tr>\n",
       "    <tr>\n",
       "      <th>2022-08-24</th>\n",
       "      <td>0.587399</td>\n",
       "      <td>0.040401</td>\n",
       "      <td>-1.261239</td>\n",
       "      <td>-0.753960</td>\n",
       "    </tr>\n",
       "  </tbody>\n",
       "</table>\n",
       "</div>"
      ],
      "text/plain": [
       "                   A         B         C         D\n",
       "2022-08-22  0.184745 -0.042064 -1.019965 -1.056306\n",
       "2022-08-24  0.587399  0.040401 -1.261239 -0.753960"
      ]
     },
     "execution_count": 282,
     "metadata": {},
     "output_type": "execute_result"
    }
   ],
   "source": [
    "# Extracting data using boolean\n",
    "\n",
    "df[df[\"A\"]>0]                                   #< this will return with selection of data set based on sorting out coulmn A with value > 0 "
   ]
  },
  {
   "cell_type": "code",
   "execution_count": 283,
   "metadata": {},
   "outputs": [
    {
     "data": {
      "text/html": [
       "<div>\n",
       "<style scoped>\n",
       "    .dataframe tbody tr th:only-of-type {\n",
       "        vertical-align: middle;\n",
       "    }\n",
       "\n",
       "    .dataframe tbody tr th {\n",
       "        vertical-align: top;\n",
       "    }\n",
       "\n",
       "    .dataframe thead th {\n",
       "        text-align: right;\n",
       "    }\n",
       "</style>\n",
       "<table border=\"1\" class=\"dataframe\">\n",
       "  <thead>\n",
       "    <tr style=\"text-align: right;\">\n",
       "      <th></th>\n",
       "      <th>A</th>\n",
       "      <th>B</th>\n",
       "      <th>C</th>\n",
       "      <th>D</th>\n",
       "    </tr>\n",
       "  </thead>\n",
       "  <tbody>\n",
       "    <tr>\n",
       "      <th>2022-08-21</th>\n",
       "      <td>NaN</td>\n",
       "      <td>0.776747</td>\n",
       "      <td>NaN</td>\n",
       "      <td>NaN</td>\n",
       "    </tr>\n",
       "    <tr>\n",
       "      <th>2022-08-22</th>\n",
       "      <td>0.184745</td>\n",
       "      <td>NaN</td>\n",
       "      <td>NaN</td>\n",
       "      <td>NaN</td>\n",
       "    </tr>\n",
       "    <tr>\n",
       "      <th>2022-08-23</th>\n",
       "      <td>NaN</td>\n",
       "      <td>0.775923</td>\n",
       "      <td>NaN</td>\n",
       "      <td>NaN</td>\n",
       "    </tr>\n",
       "    <tr>\n",
       "      <th>2022-08-24</th>\n",
       "      <td>0.587399</td>\n",
       "      <td>0.040401</td>\n",
       "      <td>NaN</td>\n",
       "      <td>NaN</td>\n",
       "    </tr>\n",
       "    <tr>\n",
       "      <th>2022-08-25</th>\n",
       "      <td>NaN</td>\n",
       "      <td>NaN</td>\n",
       "      <td>1.071447</td>\n",
       "      <td>NaN</td>\n",
       "    </tr>\n",
       "    <tr>\n",
       "      <th>2022-08-26</th>\n",
       "      <td>NaN</td>\n",
       "      <td>0.692611</td>\n",
       "      <td>NaN</td>\n",
       "      <td>NaN</td>\n",
       "    </tr>\n",
       "    <tr>\n",
       "      <th>2022-08-27</th>\n",
       "      <td>NaN</td>\n",
       "      <td>NaN</td>\n",
       "      <td>1.391343</td>\n",
       "      <td>NaN</td>\n",
       "    </tr>\n",
       "  </tbody>\n",
       "</table>\n",
       "</div>"
      ],
      "text/plain": [
       "                   A         B         C   D\n",
       "2022-08-21       NaN  0.776747       NaN NaN\n",
       "2022-08-22  0.184745       NaN       NaN NaN\n",
       "2022-08-23       NaN  0.775923       NaN NaN\n",
       "2022-08-24  0.587399  0.040401       NaN NaN\n",
       "2022-08-25       NaN       NaN  1.071447 NaN\n",
       "2022-08-26       NaN  0.692611       NaN NaN\n",
       "2022-08-27       NaN       NaN  1.391343 NaN"
      ]
     },
     "execution_count": 283,
     "metadata": {},
     "output_type": "execute_result"
    }
   ],
   "source": [
    "# Another example which will show only data elements who's values are more than 0\n",
    "df[df>0]"
   ]
  },
  {
   "cell_type": "markdown",
   "metadata": {},
   "source": [
    "### 5. \"Is In\" Method - Appending new column of data in an existing dataframe"
   ]
  },
  {
   "cell_type": "code",
   "execution_count": 284,
   "metadata": {},
   "outputs": [],
   "source": [
    "#Creating a copy of df as df3\n",
    "df3 = df.copy()"
   ]
  },
  {
   "cell_type": "code",
   "execution_count": 285,
   "metadata": {},
   "outputs": [
    {
     "data": {
      "text/html": [
       "<div>\n",
       "<style scoped>\n",
       "    .dataframe tbody tr th:only-of-type {\n",
       "        vertical-align: middle;\n",
       "    }\n",
       "\n",
       "    .dataframe tbody tr th {\n",
       "        vertical-align: top;\n",
       "    }\n",
       "\n",
       "    .dataframe thead th {\n",
       "        text-align: right;\n",
       "    }\n",
       "</style>\n",
       "<table border=\"1\" class=\"dataframe\">\n",
       "  <thead>\n",
       "    <tr style=\"text-align: right;\">\n",
       "      <th></th>\n",
       "      <th>A</th>\n",
       "      <th>B</th>\n",
       "      <th>C</th>\n",
       "      <th>D</th>\n",
       "      <th>E</th>\n",
       "    </tr>\n",
       "  </thead>\n",
       "  <tbody>\n",
       "    <tr>\n",
       "      <th>2022-08-21</th>\n",
       "      <td>-1.015768</td>\n",
       "      <td>0.776747</td>\n",
       "      <td>-1.457461</td>\n",
       "      <td>-1.470606</td>\n",
       "      <td>one</td>\n",
       "    </tr>\n",
       "    <tr>\n",
       "      <th>2022-08-22</th>\n",
       "      <td>0.184745</td>\n",
       "      <td>-0.042064</td>\n",
       "      <td>-1.019965</td>\n",
       "      <td>-1.056306</td>\n",
       "      <td>one</td>\n",
       "    </tr>\n",
       "    <tr>\n",
       "      <th>2022-08-23</th>\n",
       "      <td>-0.185646</td>\n",
       "      <td>0.775923</td>\n",
       "      <td>-1.927912</td>\n",
       "      <td>-0.771617</td>\n",
       "      <td>two</td>\n",
       "    </tr>\n",
       "    <tr>\n",
       "      <th>2022-08-24</th>\n",
       "      <td>0.587399</td>\n",
       "      <td>0.040401</td>\n",
       "      <td>-1.261239</td>\n",
       "      <td>-0.753960</td>\n",
       "      <td>three</td>\n",
       "    </tr>\n",
       "    <tr>\n",
       "      <th>2022-08-25</th>\n",
       "      <td>-0.022128</td>\n",
       "      <td>-0.657940</td>\n",
       "      <td>1.071447</td>\n",
       "      <td>-0.551672</td>\n",
       "      <td>four</td>\n",
       "    </tr>\n",
       "    <tr>\n",
       "      <th>2022-08-26</th>\n",
       "      <td>-0.141788</td>\n",
       "      <td>0.692611</td>\n",
       "      <td>-1.796206</td>\n",
       "      <td>-0.504054</td>\n",
       "      <td>three</td>\n",
       "    </tr>\n",
       "    <tr>\n",
       "      <th>2022-08-27</th>\n",
       "      <td>-0.254634</td>\n",
       "      <td>-1.194663</td>\n",
       "      <td>1.391343</td>\n",
       "      <td>-1.131210</td>\n",
       "      <td>zero</td>\n",
       "    </tr>\n",
       "  </tbody>\n",
       "</table>\n",
       "</div>"
      ],
      "text/plain": [
       "                   A         B         C         D      E\n",
       "2022-08-21 -1.015768  0.776747 -1.457461 -1.470606    one\n",
       "2022-08-22  0.184745 -0.042064 -1.019965 -1.056306    one\n",
       "2022-08-23 -0.185646  0.775923 -1.927912 -0.771617    two\n",
       "2022-08-24  0.587399  0.040401 -1.261239 -0.753960  three\n",
       "2022-08-25 -0.022128 -0.657940  1.071447 -0.551672   four\n",
       "2022-08-26 -0.141788  0.692611 -1.796206 -0.504054  three\n",
       "2022-08-27 -0.254634 -1.194663  1.391343 -1.131210   zero"
      ]
     },
     "execution_count": 285,
     "metadata": {},
     "output_type": "execute_result"
    }
   ],
   "source": [
    "#Adding a new column to df3\n",
    "df3[\"E\"] = [\"one\", \"one\", \"two\", \"three\", \"four\", \"three\",\"zero\"]\n",
    "df3\n"
   ]
  },
  {
   "cell_type": "markdown",
   "metadata": {},
   "source": [
    "> Exercise - **Creating Average of Column A, B, C, and D and then Append it at the end of the df3 data frame**"
   ]
  },
  {
   "cell_type": "code",
   "execution_count": 288,
   "metadata": {},
   "outputs": [
    {
     "data": {
      "text/plain": [
       "2022-08-21   -0.791772\n",
       "2022-08-22   -0.483398\n",
       "2022-08-23   -0.527313\n",
       "2022-08-24   -0.346850\n",
       "2022-08-25   -0.040073\n",
       "2022-08-26   -0.437359\n",
       "2022-08-27   -0.297291\n",
       "Freq: D, dtype: float64"
      ]
     },
     "execution_count": 288,
     "metadata": {},
     "output_type": "execute_result"
    }
   ],
   "source": [
    "# Calculating average/mean of A, B, C, and D\n",
    "avABCD = df3[[\"A\", \"B\",\"C\",\"D\"]].mean(axis=1)\n",
    "avABCD"
   ]
  },
  {
   "cell_type": "code",
   "execution_count": 289,
   "metadata": {},
   "outputs": [
    {
     "data": {
      "text/html": [
       "<div>\n",
       "<style scoped>\n",
       "    .dataframe tbody tr th:only-of-type {\n",
       "        vertical-align: middle;\n",
       "    }\n",
       "\n",
       "    .dataframe tbody tr th {\n",
       "        vertical-align: top;\n",
       "    }\n",
       "\n",
       "    .dataframe thead th {\n",
       "        text-align: right;\n",
       "    }\n",
       "</style>\n",
       "<table border=\"1\" class=\"dataframe\">\n",
       "  <thead>\n",
       "    <tr style=\"text-align: right;\">\n",
       "      <th></th>\n",
       "      <th>A</th>\n",
       "      <th>B</th>\n",
       "      <th>C</th>\n",
       "      <th>D</th>\n",
       "      <th>E</th>\n",
       "      <th>AvgABCD</th>\n",
       "    </tr>\n",
       "  </thead>\n",
       "  <tbody>\n",
       "    <tr>\n",
       "      <th>2022-08-21</th>\n",
       "      <td>-1.015768</td>\n",
       "      <td>0.776747</td>\n",
       "      <td>-1.457461</td>\n",
       "      <td>-1.470606</td>\n",
       "      <td>one</td>\n",
       "      <td>-0.791772</td>\n",
       "    </tr>\n",
       "    <tr>\n",
       "      <th>2022-08-22</th>\n",
       "      <td>0.184745</td>\n",
       "      <td>-0.042064</td>\n",
       "      <td>-1.019965</td>\n",
       "      <td>-1.056306</td>\n",
       "      <td>one</td>\n",
       "      <td>-0.483398</td>\n",
       "    </tr>\n",
       "    <tr>\n",
       "      <th>2022-08-23</th>\n",
       "      <td>-0.185646</td>\n",
       "      <td>0.775923</td>\n",
       "      <td>-1.927912</td>\n",
       "      <td>-0.771617</td>\n",
       "      <td>two</td>\n",
       "      <td>-0.527313</td>\n",
       "    </tr>\n",
       "    <tr>\n",
       "      <th>2022-08-24</th>\n",
       "      <td>0.587399</td>\n",
       "      <td>0.040401</td>\n",
       "      <td>-1.261239</td>\n",
       "      <td>-0.753960</td>\n",
       "      <td>three</td>\n",
       "      <td>-0.346850</td>\n",
       "    </tr>\n",
       "    <tr>\n",
       "      <th>2022-08-25</th>\n",
       "      <td>-0.022128</td>\n",
       "      <td>-0.657940</td>\n",
       "      <td>1.071447</td>\n",
       "      <td>-0.551672</td>\n",
       "      <td>four</td>\n",
       "      <td>-0.040073</td>\n",
       "    </tr>\n",
       "    <tr>\n",
       "      <th>2022-08-26</th>\n",
       "      <td>-0.141788</td>\n",
       "      <td>0.692611</td>\n",
       "      <td>-1.796206</td>\n",
       "      <td>-0.504054</td>\n",
       "      <td>three</td>\n",
       "      <td>-0.437359</td>\n",
       "    </tr>\n",
       "    <tr>\n",
       "      <th>2022-08-27</th>\n",
       "      <td>-0.254634</td>\n",
       "      <td>-1.194663</td>\n",
       "      <td>1.391343</td>\n",
       "      <td>-1.131210</td>\n",
       "      <td>zero</td>\n",
       "      <td>-0.297291</td>\n",
       "    </tr>\n",
       "  </tbody>\n",
       "</table>\n",
       "</div>"
      ],
      "text/plain": [
       "                   A         B         C         D      E   AvgABCD\n",
       "2022-08-21 -1.015768  0.776747 -1.457461 -1.470606    one -0.791772\n",
       "2022-08-22  0.184745 -0.042064 -1.019965 -1.056306    one -0.483398\n",
       "2022-08-23 -0.185646  0.775923 -1.927912 -0.771617    two -0.527313\n",
       "2022-08-24  0.587399  0.040401 -1.261239 -0.753960  three -0.346850\n",
       "2022-08-25 -0.022128 -0.657940  1.071447 -0.551672   four -0.040073\n",
       "2022-08-26 -0.141788  0.692611 -1.796206 -0.504054  three -0.437359\n",
       "2022-08-27 -0.254634 -1.194663  1.391343 -1.131210   zero -0.297291"
      ]
     },
     "execution_count": 289,
     "metadata": {},
     "output_type": "execute_result"
    }
   ],
   "source": [
    "df3[\"AvgABCD\"] = avABCD\n",
    "df3"
   ]
  },
  {
   "cell_type": "markdown",
   "metadata": {},
   "source": [
    "> Exercise - **End**"
   ]
  }
 ],
 "metadata": {
  "interpreter": {
   "hash": "ad6ec052a6ed06a9c5369350bb1b22f55b27eb3936937b63530579205df4a83b"
  },
  "kernelspec": {
   "display_name": "Python 3.9.7 64-bit ('base': conda)",
   "language": "python",
   "name": "python3"
  },
  "language_info": {
   "codemirror_mode": {
    "name": "ipython",
    "version": 3
   },
   "file_extension": ".py",
   "mimetype": "text/x-python",
   "name": "python",
   "nbconvert_exporter": "python",
   "pygments_lexer": "ipython3",
   "version": "3.9.7"
  },
  "orig_nbformat": 4
 },
 "nbformat": 4,
 "nbformat_minor": 2
}
