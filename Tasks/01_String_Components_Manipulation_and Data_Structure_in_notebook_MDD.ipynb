{
 "cells": [
  {
   "cell_type": "markdown",
   "metadata": {},
   "source": [
    ">## Participant\n",
    ">\n",
    "Tile = \"Mr.\"\n",
    "\n",
    "Name = \"Mohammad Damoun Dahir\"\n",
    "\n",
    "email = \"mohammad.damoun@gmail.com\"\n",
    "\n",
    "whatsapp = \"00923335190823\"\n",
    "___"
   ]
  },
  {
   "cell_type": "markdown",
   "metadata": {},
   "source": [
    "# **Introduction to String, its Components, Manipulation, and Data Structure in Python *(Exercises)***\n",
    "___"
   ]
  },
  {
   "cell_type": "markdown",
   "metadata": {},
   "source": [
    "# **Table of Contents** <a class=\"anchor\" id=\"JNB00\"></a>\n",
    "|       | **SECTION**                              |\n",
    "|------:|:-----------------------------------------|\n",
    "| **1** | [String](#JNB01)                         |\n",
    "| **2** | [String Manipulation](#JNB02)            |\n",
    "| **3** | [Basic Data Structure in Python](#JNB03) |\n",
    "| **4** | [Tuple](#JNB04)                          |\n",
    "| **5** | [List](#JNB05)                           |\n",
    "| **6** | [Dicitionary](#JNB06)                    |\n",
    "| **7** | [Set](#JNB07)                            |\n",
    "| **8** | [End Note](#JNB08)                       |\n",
    "___"
   ]
  },
  {
   "cell_type": "markdown",
   "id": "2d634455",
   "metadata": {},
   "source": [
    "### **1. String** <a class=\"anchor\" id=\"JNB01\"></a>\n",
    "\n",
    "A string is a data type used in programming, such as an **integer** (1,2,3,4,..) and **floating point unit** (1.,2.,3.,4.,...), but _**is used to represent text rather than numbers**_."
   ]
  },
  {
   "cell_type": "code",
   "execution_count": null,
   "id": "965c8dca",
   "metadata": {},
   "outputs": [],
   "source": [
    "#Making a string\n",
    "a = \"samoosa pakora\"            # This define 'a' as a sting which contains a text inside \" \""
   ]
  },
  {
   "cell_type": "code",
   "execution_count": null,
   "id": "f63d22c1",
   "metadata": {},
   "outputs": [],
   "source": [
    "a                               # By calling the string 'a', it return the \"text\" which was stored in it./"
   ]
  },
  {
   "cell_type": "markdown",
   "id": "2d634455",
   "metadata": {},
   "source": [
    "#### 1a. Indexing\n",
    "\n",
    "**Indexing** means referring to an **element** of a string by its position within that string.\\\n",
    "**Element** is a single unit of a data store.\n",
    "\n",
    ">For example a string **\"Pakistan\"** has 8 **elements** and Python index them in following sequence\n",
    ">| Index #     | 0 | 1 | 2 | 3 | 4 | 5 | 6 | 7 |\n",
    ">|:------------|:-:|:-:|:-:|:-:|:-:|:-:|:-:|:-:|\n",
    ">| **Element** | P | a | k | i | s | t | a | n |\n",
    ">\n",
    ">Notice that indexing starts from Zero and onward -> 0,1,2,3,... and onward"
   ]
  },
  {
   "cell_type": "markdown",
   "metadata": {},
   "source": [
    "#### Indexing of a String"
   ]
  },
  {
   "cell_type": "code",
   "execution_count": null,
   "id": "fb0e64d9",
   "metadata": {},
   "outputs": [],
   "source": [
    "a[0]                            # This calls for finding the first element of string 'a'. This is done by string name followed by index # in square bracket\n"
   ]
  },
  {
   "cell_type": "code",
   "execution_count": null,
   "id": "ac1ac73c",
   "metadata": {},
   "outputs": [],
   "source": [
    "a[1]                            # Finding the value of element 2 in string 'a'\n"
   ]
  },
  {
   "cell_type": "code",
   "execution_count": null,
   "id": "b30a5fcc",
   "metadata": {},
   "outputs": [],
   "source": [
    "a[2]                            # Finding the value of element 3 in string 'a'\n"
   ]
  },
  {
   "cell_type": "code",
   "execution_count": null,
   "id": "750d3b22",
   "metadata": {},
   "outputs": [],
   "source": [
    "a[13]                            # Finding the value of element 13 in string 'a'"
   ]
  },
  {
   "cell_type": "markdown",
   "metadata": {},
   "source": [
    "#### 1b. Lenght of the String\n",
    "This is a simple command to find the length of any defined data string"
   ]
  },
  {
   "cell_type": "code",
   "execution_count": null,
   "id": "4ed8d242",
   "metadata": {},
   "outputs": [],
   "source": [
    "# lenght of the index\n",
    "len(a)"
   ]
  },
  {
   "cell_type": "markdown",
   "metadata": {},
   "source": [
    "#### 1c. Slicing of the String\n",
    "This is a simple commmand to call certain part(s) of the data string (Subset of the elements in the string). This can be a single element to a range of elements."
   ]
  },
  {
   "cell_type": "code",
   "execution_count": null,
   "id": "f3ddacba",
   "metadata": {},
   "outputs": [],
   "source": [
    "a[0:7]                              # This recalls the elements from postion 0 to 7 in string 'a'"
   ]
  },
  {
   "cell_type": "code",
   "execution_count": null,
   "id": "015958a3",
   "metadata": {},
   "outputs": [],
   "source": [
    "a[7]                                # This recalls the elements from postion 7 in string 'a'"
   ]
  },
  {
   "cell_type": "code",
   "execution_count": null,
   "id": "447c6673",
   "metadata": {},
   "outputs": [],
   "source": [
    "a[8:14]                             # This recalls the elements from postion 8 to 14 in string 'a'"
   ]
  },
  {
   "cell_type": "markdown",
   "metadata": {},
   "source": [
    ">### Practice to call different sets of elements within a string\n",
    "> \n",
    ">The _**use of minus '-' sign**_ in indexing will make Python count the elements from Far Right to towards the begining of the string"
   ]
  },
  {
   "cell_type": "code",
   "execution_count": null,
   "id": "71fe2e57",
   "metadata": {},
   "outputs": [],
   "source": [
    "# If you use minus (-) sign to call a charater in a string, it will start counting and displaying data from left\n",
    "a[-2]                               #< This is 'r' of a Pakora in the string 'a'"
   ]
  },
  {
   "cell_type": "code",
   "execution_count": null,
   "id": "74c5cb8d",
   "metadata": {},
   "outputs": [],
   "source": [
    "#This will slice the data from far right position and display the 6 elements to the left of the string from the end\n",
    "a[-6:]"
   ]
  },
  {
   "cell_type": "code",
   "execution_count": null,
   "id": "c407a6e2",
   "metadata": {},
   "outputs": [],
   "source": [
    "a[-6:14]                            #< By adding the total lenght after the colon will also give the same result as above"
   ]
  },
  {
   "cell_type": "code",
   "execution_count": null,
   "id": "d430da12",
   "metadata": {},
   "outputs": [],
   "source": [
    "a[-6:len(a)]                        #< same as above with a formula to avoid mistake of forgetting the length of the string"
   ]
  },
  {
   "cell_type": "code",
   "execution_count": null,
   "id": "32f5c283",
   "metadata": {},
   "outputs": [],
   "source": [
    "#This will slice the data from far starting position and display the 6 elements to the right of the string\n",
    "a[:-6]"
   ]
  },
  {
   "cell_type": "code",
   "execution_count": null,
   "id": "79340c0b",
   "metadata": {},
   "outputs": [],
   "source": [
    "a[6:]                               #< Slicing the string from 7th postion until the end of the string"
   ]
  },
  {
   "cell_type": "code",
   "execution_count": null,
   "id": "948131ed",
   "metadata": {},
   "outputs": [],
   "source": [
    "a[:6]"
   ]
  },
  {
   "cell_type": "markdown",
   "metadata": {},
   "source": [
    "[^ Top](#JNB00)\n",
    "___"
   ]
  },
  {
   "cell_type": "markdown",
   "id": "e0252452",
   "metadata": {},
   "source": [
    "### **2. String Manipulation** <a class=\"anchor\" id=\"JNB02\"></a>\n",
    "\n",
    "A string manipulation will be the change in the structure of defined string with basic python commands."
   ]
  },
  {
   "cell_type": "markdown",
   "metadata": {},
   "source": [
    "#### Changing every word in the string into uppercase"
   ]
  },
  {
   "cell_type": "code",
   "execution_count": null,
   "id": "32fbaf54",
   "metadata": {},
   "outputs": [],
   "source": [
    "print(\"This is the content of the string before the command:>\",a)\n",
    "a=a.title() #< capitlize each aplhabet of the word in the string\n",
    "print(a)"
   ]
  },
  {
   "cell_type": "markdown",
   "metadata": {},
   "source": [
    "#### Changing every word in the string into lowercase"
   ]
  },
  {
   "cell_type": "code",
   "execution_count": null,
   "id": "7abae344",
   "metadata": {},
   "outputs": [],
   "source": [
    "print(\"This is the content of the string before the command:>\",a)\n",
    "a=a.casefold() #< will make all the words caseless of the string\n",
    "print(a)"
   ]
  },
  {
   "cell_type": "markdown",
   "metadata": {},
   "source": [
    "#### Different commands to verifiy elements or manipulate them"
   ]
  },
  {
   "cell_type": "code",
   "execution_count": null,
   "id": "65f08b80",
   "metadata": {},
   "outputs": [],
   "source": [
    "# 1 Defining new string\n",
    "food = \"123briYani\"\n",
    "food"
   ]
  },
  {
   "cell_type": "markdown",
   "metadata": {},
   "source": [
    "**Determining the length of the string**"
   ]
  },
  {
   "cell_type": "code",
   "execution_count": null,
   "id": "b45f8879",
   "metadata": {},
   "outputs": [],
   "source": [
    "# Finding the lenght of the string\n",
    "len(food)"
   ]
  },
  {
   "cell_type": "markdown",
   "metadata": {},
   "source": [
    "**Capitalizing the first character of a string in to Uppercase**"
   ]
  },
  {
   "cell_type": "code",
   "execution_count": null,
   "id": "5370babb",
   "metadata": {},
   "outputs": [],
   "source": [
    "# Converting the first charater in to uppercase if applicable\n",
    "food.capitalize() "
   ]
  },
  {
   "cell_type": "markdown",
   "metadata": {},
   "source": [
    "**Converting the whole string into Uppercase**"
   ]
  },
  {
   "cell_type": "code",
   "execution_count": null,
   "id": "6be38585",
   "metadata": {},
   "outputs": [],
   "source": [
    "# Converting the whole string in to uppercase\n",
    "food.upper() "
   ]
  },
  {
   "cell_type": "markdown",
   "metadata": {},
   "source": [
    "**Determining the occurrence of specified element in a string**"
   ]
  },
  {
   "cell_type": "code",
   "execution_count": null,
   "id": "3315241d",
   "metadata": {},
   "outputs": [],
   "source": [
    "# Determining the occurrence of element 'i' in the string 123birYani\n",
    "food.count(\"i\")  "
   ]
  },
  {
   "cell_type": "markdown",
   "metadata": {},
   "source": [
    "**Searching occurrence of specified element in a string. The command returns the postion of first occurence**"
   ]
  },
  {
   "cell_type": "code",
   "execution_count": null,
   "id": "2ed1d298",
   "metadata": {},
   "outputs": [],
   "source": [
    "# Finds first postion of 'i' in 123birYani\n",
    "# notice counting is from 1 instead of 0 as of indexing\n",
    "food.find(\"i\")"
   ]
  },
  {
   "cell_type": "markdown",
   "metadata": {},
   "source": [
    "**Verifing the string ending with certain element**"
   ]
  },
  {
   "cell_type": "code",
   "execution_count": null,
   "id": "95c086a8",
   "metadata": {},
   "outputs": [],
   "source": [
    "food.endswith(\"i\") #<<< verifies that the string ends with 'i'"
   ]
  },
  {
   "cell_type": "code",
   "execution_count": null,
   "id": "f31ac0e4",
   "metadata": {},
   "outputs": [],
   "source": [
    "food.endswith(\"a\") #<<< verifies that the string ends with 'i'"
   ]
  },
  {
   "cell_type": "markdown",
   "metadata": {},
   "source": [
    "**Finding postion of certain element in a string**"
   ]
  },
  {
   "cell_type": "code",
   "execution_count": null,
   "id": "6efe6fad",
   "metadata": {},
   "outputs": [],
   "source": [
    "food.index(\"Y\")  #<< gives the position of 'y' in '123birYani'"
   ]
  },
  {
   "cell_type": "markdown",
   "metadata": {},
   "source": [
    "**Converting whole string into lowercase**"
   ]
  },
  {
   "cell_type": "code",
   "execution_count": null,
   "id": "b6aed392",
   "metadata": {},
   "outputs": [],
   "source": [
    "food.lower() #<<< convert the whole string in to lowercase"
   ]
  },
  {
   "cell_type": "markdown",
   "metadata": {},
   "source": [
    "**Replacing a specific element(s) with a new element(s)**"
   ]
  },
  {
   "cell_type": "code",
   "execution_count": null,
   "id": "9147426b",
   "metadata": {},
   "outputs": [],
   "source": [
    "food.replace(\"Y\",\"y\")"
   ]
  },
  {
   "cell_type": "code",
   "execution_count": null,
   "id": "c9063fb8",
   "metadata": {},
   "outputs": [],
   "source": [
    "food.replace(\"b\",\"B\")"
   ]
  },
  {
   "cell_type": "code",
   "execution_count": null,
   "id": "62f64976",
   "metadata": {},
   "outputs": [],
   "source": [
    "food.replace(\"123briY\",\"Biry\")"
   ]
  },
  {
   "cell_type": "code",
   "execution_count": null,
   "id": "8c0398f2",
   "metadata": {},
   "outputs": [],
   "source": [
    "food.replace(\"123briY\",\"Shiry\")"
   ]
  },
  {
   "cell_type": "code",
   "execution_count": null,
   "id": "15510d14",
   "metadata": {},
   "outputs": [],
   "source": [
    "# counting a specific letter in a string\n",
    "\n",
    "name = \"baba_aammar with Dr Aammar Tufail\"\n",
    "name"
   ]
  },
  {
   "cell_type": "code",
   "execution_count": null,
   "id": "bb0483fe",
   "metadata": {},
   "outputs": [],
   "source": [
    "name.count(\"a\") , name.count(\"A\") #< returns the count of upper and lower case 'a' in the string seprated by ','"
   ]
  },
  {
   "cell_type": "code",
   "execution_count": null,
   "id": "d17407b4",
   "metadata": {},
   "outputs": [],
   "source": [
    "name.count(\"a\") + name.count(\"A\") #< returns the count of upper and lower case 'a' in the string as single digit"
   ]
  },
  {
   "cell_type": "markdown",
   "id": "57cd3a6f",
   "metadata": {},
   "source": [
    "**Finding an index number in string**"
   ]
  },
  {
   "cell_type": "code",
   "execution_count": null,
   "id": "e52c49c1",
   "metadata": {},
   "outputs": [],
   "source": [
    "name = \"baba_aammar with Dr Aammar Tufail\"\n",
    "name"
   ]
  },
  {
   "cell_type": "code",
   "execution_count": null,
   "id": "22e64763",
   "metadata": {},
   "outputs": [],
   "source": [
    "name.find(\"Dr\") #<< 17 is the starting postion of the string of \"Dr\""
   ]
  },
  {
   "cell_type": "code",
   "execution_count": null,
   "id": "5f689b37",
   "metadata": {},
   "outputs": [],
   "source": [
    "name.find(\"aa\") #<< 5 is the starting postion of the string of \"aa\". Keep in mind that these commands find the postion of first find in the string"
   ]
  },
  {
   "cell_type": "markdown",
   "id": "b5c47f44",
   "metadata": {},
   "source": [
    "**Spliting a string**"
   ]
  },
  {
   "cell_type": "code",
   "execution_count": null,
   "id": "0221e0bb",
   "metadata": {},
   "outputs": [],
   "source": [
    "food = \"I love samosa, pakora, raita, biryani, and karahi\"\n",
    "food"
   ]
  },
  {
   "cell_type": "code",
   "execution_count": null,
   "id": "33432ff3",
   "metadata": {},
   "outputs": [],
   "source": [
    "food.split(\",\")  #<< spliting a string based on specific charater, in this case its \"comma ','\""
   ]
  },
  {
   "cell_type": "markdown",
   "metadata": {},
   "source": [
    "[^ Top](#JNB00)\n",
    "___"
   ]
  },
  {
   "cell_type": "markdown",
   "id": "5506f939",
   "metadata": {},
   "source": [
    "### **3. Basic Data Structure in Python** <a class=\"anchor\" id=\"JNB03\"></a>\n",
    "\n",
    "There are four (4) kinds of data structures used in Python. All have their own usage and are distinguished by their certain characteristics.\\\n",
    "Following are their names:\n",
    "\n",
    "#### a. Tuple\n",
    "\n",
    "#### b. List\n",
    "\n",
    "#### c. Dictionary\n",
    "\n",
    "#### d. Set\n",
    "\n"
   ]
  },
  {
   "cell_type": "markdown",
   "metadata": {},
   "source": [
    "[^ Top](#JNB00)\n",
    "___"
   ]
  },
  {
   "cell_type": "markdown",
   "id": "de67bcbd",
   "metadata": {},
   "source": [
    "### **4. Tuple** <a class=\"anchor\" id=\"JNB04\"></a>\n",
    "\n",
    "- Ordered collections of elements\n",
    "- They are enclosed in round brackets/paranthesis ( ) not in \" \" as that of strings\n",
    "- Different kind of elements can be stored\n",
    "- Once the elements are stored, they cannot be changed (or they are unmutatable)\n"
   ]
  },
  {
   "cell_type": "code",
   "execution_count": null,
   "id": "f6116193",
   "metadata": {},
   "outputs": [],
   "source": [
    "tupl01 = (1, \"pyhton\", True, 2.5)\n",
    "tupl01"
   ]
  },
  {
   "cell_type": "code",
   "execution_count": null,
   "id": "4646237a",
   "metadata": {},
   "outputs": [],
   "source": [
    "# type of tuple\n",
    "\n",
    "type(tupl01)"
   ]
  },
  {
   "cell_type": "markdown",
   "id": "50b88bc4",
   "metadata": {},
   "source": [
    "#### Indexing in Tuple"
   ]
  },
  {
   "cell_type": "code",
   "execution_count": null,
   "id": "3e516e54",
   "metadata": {},
   "outputs": [],
   "source": [
    "tupl01[0]\n",
    "#notice on call of index, tuple is returning whole value/text rather one element/alphabet in contrast to string"
   ]
  },
  {
   "cell_type": "code",
   "execution_count": null,
   "id": "b43699ea",
   "metadata": {},
   "outputs": [],
   "source": [
    "tupl01[1], tupl01[2], tupl01[3]"
   ]
  },
  {
   "cell_type": "code",
   "execution_count": null,
   "id": "9bccc137",
   "metadata": {},
   "outputs": [],
   "source": [
    "#notice the last element '2.5' is not printed when asked for indexing from 0 to 3\n",
    "#the reason is that the last element is \"exclusive\"\n",
    "#to have it printed, you need to call indexing from 0:4 or higher number at the end\n",
    "\n",
    "tupl01[0:3]"
   ]
  },
  {
   "cell_type": "code",
   "execution_count": null,
   "id": "fb5e1f08",
   "metadata": {},
   "outputs": [],
   "source": [
    "tupl01[:4]"
   ]
  },
  {
   "cell_type": "code",
   "execution_count": null,
   "id": "569d3bbd",
   "metadata": {},
   "outputs": [],
   "source": [
    "tupl01[-1] #just like in the string index, you can recall the element from the end of the Tuple"
   ]
  },
  {
   "cell_type": "code",
   "execution_count": null,
   "id": "f6896880",
   "metadata": {},
   "outputs": [],
   "source": [
    "tupl01[-3]"
   ]
  },
  {
   "cell_type": "code",
   "execution_count": null,
   "id": "6738f2f2",
   "metadata": {},
   "outputs": [],
   "source": [
    "len(tupl01) # len (lenght) returns the number of elements in Tuple container"
   ]
  },
  {
   "cell_type": "code",
   "execution_count": null,
   "id": "cb9e6c2b",
   "metadata": {},
   "outputs": [],
   "source": [
    "tupl02 = (2, \"babaAammar\", 3.5, False)\n",
    "tupl02"
   ]
  },
  {
   "cell_type": "markdown",
   "id": "ead20bc5",
   "metadata": {},
   "source": [
    "#### Concatinate of Tuples (Joining two or more tuples together)"
   ]
  },
  {
   "cell_type": "code",
   "execution_count": null,
   "id": "63265278",
   "metadata": {},
   "outputs": [],
   "source": [
    "tupl01 + tupl02 # << this will make tupl01 printed followed by tupl02"
   ]
  },
  {
   "cell_type": "markdown",
   "id": "ea0b3155",
   "metadata": {},
   "source": [
    "#### Concatinate of Tuples and repetition"
   ]
  },
  {
   "cell_type": "code",
   "execution_count": null,
   "id": "07defa6a",
   "metadata": {},
   "outputs": [],
   "source": [
    "tupl01*2 + tupl02 # << this will make tupl01 to be printed twice followed by tupl02"
   ]
  },
  {
   "cell_type": "code",
   "execution_count": null,
   "id": "ded2f403",
   "metadata": {},
   "outputs": [],
   "source": [
    "tupl03 = (20,50,30,60,79,85)\n",
    "tupl03"
   ]
  },
  {
   "cell_type": "code",
   "execution_count": null,
   "id": "a8cbe8fe",
   "metadata": {},
   "outputs": [],
   "source": [
    "#to find minimum value in Tuple\n",
    "min(tupl03)"
   ]
  },
  {
   "cell_type": "code",
   "execution_count": null,
   "id": "fa9853da",
   "metadata": {},
   "outputs": [],
   "source": [
    "#to find max value in Tuple\n",
    "max(tupl03)"
   ]
  },
  {
   "cell_type": "code",
   "execution_count": null,
   "id": "35fb5e7c",
   "metadata": {},
   "outputs": [],
   "source": [
    "import statistics                   #importing statistical function in notebook"
   ]
  },
  {
   "cell_type": "code",
   "execution_count": null,
   "id": "5db766a4",
   "metadata": {},
   "outputs": [],
   "source": [
    "statistics.median(tupl03)"
   ]
  },
  {
   "cell_type": "code",
   "execution_count": null,
   "id": "6f50364f",
   "metadata": {},
   "outputs": [],
   "source": [
    "statistics.mean(tupl03)"
   ]
  },
  {
   "cell_type": "markdown",
   "metadata": {},
   "source": [
    "[^ Top](#JNB00)\n",
    "___"
   ]
  },
  {
   "cell_type": "markdown",
   "id": "a84e7717",
   "metadata": {},
   "source": [
    "### **5. List** <a class=\"anchor\" id=\"JNB05\"></a>\n",
    "\n",
    "- Ordered collections of elements\n",
    "- They are enclosed in square brackets/paranthesis [ ] not in \" \" as that of strings\n",
    "- Different kind of elements can be stored\n",
    "- Once the elements are stored, they can be changed (or they are mutatable) unlike Tuples\n",
    "\n"
   ]
  },
  {
   "cell_type": "code",
   "execution_count": null,
   "id": "9363822a",
   "metadata": {},
   "outputs": [],
   "source": [
    "list01 = [2, \"babaAammar\", False]\n",
    "list01"
   ]
  },
  {
   "cell_type": "markdown",
   "id": "38e0c3a3",
   "metadata": {},
   "source": [
    "#### Trying same functions as we did with Tuples"
   ]
  },
  {
   "cell_type": "code",
   "execution_count": null,
   "id": "9b2b4dfd",
   "metadata": {},
   "outputs": [],
   "source": [
    "type(list01)"
   ]
  },
  {
   "cell_type": "code",
   "execution_count": null,
   "id": "dd8209ee",
   "metadata": {},
   "outputs": [],
   "source": [
    "len(list01)"
   ]
  },
  {
   "cell_type": "code",
   "execution_count": null,
   "id": "0c497e64",
   "metadata": {},
   "outputs": [],
   "source": [
    "list01[2]"
   ]
  },
  {
   "cell_type": "code",
   "execution_count": null,
   "id": "ca7058c9",
   "metadata": {},
   "outputs": [],
   "source": [
    "list02 = [3, 5, \"Aammar\", \"Codanics\", 478, 53.2, False]\n",
    "list02"
   ]
  },
  {
   "cell_type": "code",
   "execution_count": null,
   "id": "4c6be9d9",
   "metadata": {},
   "outputs": [],
   "source": [
    "list01 + list02"
   ]
  },
  {
   "cell_type": "code",
   "execution_count": null,
   "id": "aadd60c4",
   "metadata": {},
   "outputs": [],
   "source": [
    "list01*2"
   ]
  },
  {
   "cell_type": "code",
   "execution_count": null,
   "id": "bf714555",
   "metadata": {},
   "outputs": [],
   "source": [
    "list01 = [2, \"babaAammar\", False]\n",
    "list01"
   ]
  },
  {
   "cell_type": "code",
   "execution_count": null,
   "id": "1bee2d52",
   "metadata": {},
   "outputs": [],
   "source": [
    "list01.reverse()  #<<<< Reverse the list01\n",
    "list01"
   ]
  },
  {
   "cell_type": "code",
   "execution_count": null,
   "id": "bccb5de6",
   "metadata": {},
   "outputs": [],
   "source": [
    "list01.append(\"Codanics Youtube Channel\")  #<<<<< Append new data in the list\n",
    "list01"
   ]
  },
  {
   "cell_type": "code",
   "execution_count": null,
   "id": "b5092063",
   "metadata": {},
   "outputs": [],
   "source": [
    "list01.pop(-1)\n",
    "list01"
   ]
  },
  {
   "cell_type": "code",
   "execution_count": null,
   "id": "de3f04f0",
   "metadata": {},
   "outputs": [],
   "source": [
    "list01.insert(0,\"Damoun\")\n",
    "list01"
   ]
  },
  {
   "cell_type": "code",
   "execution_count": null,
   "id": "039307b8",
   "metadata": {},
   "outputs": [],
   "source": [
    "list01.insert(1, \"learning\")\n",
    "list01"
   ]
  },
  {
   "cell_type": "code",
   "execution_count": null,
   "id": "ce89b412",
   "metadata": {},
   "outputs": [],
   "source": [
    "list01.insert(2,\"python\")\n",
    "list01"
   ]
  },
  {
   "cell_type": "code",
   "execution_count": null,
   "id": "bb1584a1",
   "metadata": {},
   "outputs": [],
   "source": [
    "list01.remove(2) #< give the option to remove any value (number) in the list \n",
    "list01"
   ]
  },
  {
   "cell_type": "code",
   "execution_count": null,
   "id": "0cabb188",
   "metadata": {},
   "outputs": [],
   "source": [
    "list01.count(2) #< as we have already removed the value 2 from the list, it is verified with count function that there is no #2 left"
   ]
  },
  {
   "cell_type": "code",
   "execution_count": null,
   "id": "28cddc12",
   "metadata": {},
   "outputs": [],
   "source": [
    "list03 = [20, 30, 35, 50, 40, 12, 15, 11, 10, 356, 56, 886]\n",
    "list03"
   ]
  },
  {
   "cell_type": "code",
   "execution_count": null,
   "id": "e90bf4cb",
   "metadata": {},
   "outputs": [],
   "source": [
    "len(list03)"
   ]
  },
  {
   "cell_type": "code",
   "execution_count": null,
   "id": "0c485958",
   "metadata": {},
   "outputs": [],
   "source": [
    "# sorting a list\n",
    "\n",
    "list03.sort(reverse=False)   # < ascending\n",
    "list03"
   ]
  },
  {
   "cell_type": "code",
   "execution_count": null,
   "id": "4eb3f4f7",
   "metadata": {},
   "outputs": [],
   "source": [
    "list03.sort(reverse=True)   # < decending\n",
    "list03"
   ]
  },
  {
   "cell_type": "code",
   "execution_count": null,
   "id": "47c7427d",
   "metadata": {},
   "outputs": [],
   "source": [
    "lists= list01 + list02 + list03\n",
    "lists"
   ]
  },
  {
   "cell_type": "markdown",
   "metadata": {},
   "source": [
    "[^ Top](#JNB00)\n",
    "___"
   ]
  },
  {
   "cell_type": "markdown",
   "id": "d8c6a472",
   "metadata": {},
   "source": [
    "### **6. Dicitionary** <a class=\"anchor\" id=\"JNB06\"></a>\n",
    "\n",
    "- Its an unordered collections of elements\n",
    "- Each elements have 2 components. 1. Key and 2. Value\n",
    "- They are enclosed in curly brackets/paranthesis { } not in \" \" as that of strings\n",
    "- Different kind of elements can be stored\n",
    "- Once the elements are stored, they can be changed (or they are mutatable)like the \"list\"\n",
    "\n",
    "\n"
   ]
  },
  {
   "cell_type": "code",
   "execution_count": null,
   "id": "0f5aa0ae",
   "metadata": {},
   "outputs": [],
   "source": [
    "# food and their prices\n",
    "\n",
    "food1 = {\"Samosa\":30, \"Raita\":20,\"Pakora\":100, \"Salad\":50, \"Chicken Rolls\":30}\n",
    "food1"
   ]
  },
  {
   "cell_type": "code",
   "execution_count": null,
   "id": "53f06d5b",
   "metadata": {},
   "outputs": [],
   "source": [
    "type(food1) #< The 'type' returns the type of data. In this case, its dictionary"
   ]
  },
  {
   "cell_type": "code",
   "execution_count": null,
   "id": "5633b237",
   "metadata": {},
   "outputs": [],
   "source": [
    "len(food1) #< returns the number of elements in the dicitionary"
   ]
  },
  {
   "cell_type": "code",
   "execution_count": null,
   "id": "608c144f",
   "metadata": {},
   "outputs": [],
   "source": [
    "# extract data\n",
    "\n",
    "keys1 = food1.keys()\n",
    "keys1"
   ]
  },
  {
   "cell_type": "code",
   "execution_count": null,
   "id": "3bc09668",
   "metadata": {},
   "outputs": [],
   "source": [
    "# extract values\n",
    "values1 = food1.values()\n",
    "values1"
   ]
  },
  {
   "cell_type": "code",
   "execution_count": null,
   "id": "5e5b4a58",
   "metadata": {},
   "outputs": [],
   "source": [
    "# adding a new element in the dictionary\n",
    "# for that we are treating the dictionary as a 'list' using [] and then equating a value to it as example below\n",
    "\n",
    "food1[\"Tikki\"] = 10\n",
    "food1"
   ]
  },
  {
   "cell_type": "code",
   "execution_count": null,
   "id": "d932bb45",
   "metadata": {},
   "outputs": [],
   "source": [
    "# Updating the value using the above method for Tikki to change the price of the 'Key' with its new 'Value'\n",
    "\n",
    "food1[\"Tikki\"] = 15\n",
    "food1"
   ]
  },
  {
   "cell_type": "code",
   "execution_count": null,
   "id": "bc75d8d2",
   "metadata": {},
   "outputs": [],
   "source": [
    "food2 = {\"Dates\":50, \"Chocolates\":200, \"Swayyan\":1000}\n",
    "food2"
   ]
  },
  {
   "cell_type": "code",
   "execution_count": null,
   "id": "b47d765b",
   "metadata": {},
   "outputs": [],
   "source": [
    "# Concatinate ; keep in mind that in dictionary mode, we cannot use \"+\" sign to join two dictionary\n",
    "food1.update(food2) # < we use update function available for 'dictionary' for concatinating two dictionaries\n",
    "food1"
   ]
  },
  {
   "cell_type": "markdown",
   "metadata": {},
   "source": [
    "[^ Top](#JNB00)\n",
    "___"
   ]
  },
  {
   "cell_type": "markdown",
   "id": "f1e425d8",
   "metadata": {},
   "source": [
    "\n",
    "### **7. Set** <a class=\"anchor\" id=\"JNB07\"></a>\n",
    "\n",
    "- Its an unordered and unindexed collections of elements\n",
    "- They are enclosed in curly brackets/paranthesis { } just like the 'dictionary'\n",
    "- No duplicates are allowed"
   ]
  },
  {
   "cell_type": "code",
   "execution_count": null,
   "id": "ff263d99",
   "metadata": {},
   "outputs": [],
   "source": [
    "s1 = {1, 2.2, 5.2, \"Aammar\", \"Codanics\",\"Faisalabad\", True}\n",
    "s1                       #< notice the Boolean operator 'True' cannot be added as calling s1 will not show 'True'\n"
   ]
  },
  {
   "cell_type": "code",
   "execution_count": null,
   "id": "61a410d8",
   "metadata": {},
   "outputs": [],
   "source": [
    "type(s1) #< Python automatically identify 'set' as it lacks the key and value structure"
   ]
  },
  {
   "cell_type": "code",
   "execution_count": null,
   "id": "7b33a11a",
   "metadata": {},
   "outputs": [],
   "source": [
    "# to update/add to the 'set'\n",
    "\n",
    "s1.add(\"Aammar\") #< notice that even though we asked to add 'Aammar' to the set, since the element already exisit it gets ignored without error\n",
    "s1"
   ]
  },
  {
   "cell_type": "code",
   "execution_count": null,
   "id": "6f8c6f9b",
   "metadata": {},
   "outputs": [],
   "source": [
    "# to update/add to the 'set'\n",
    "\n",
    "s1.add(\"Aammar1\")\n",
    "s1"
   ]
  },
  {
   "cell_type": "code",
   "execution_count": null,
   "id": "6d5e815e",
   "metadata": {},
   "outputs": [],
   "source": [
    "# To remove an entry from the 'set'\n",
    "\n",
    "s1.remove(\"Aammar1\")\n",
    "s1"
   ]
  },
  {
   "cell_type": "markdown",
   "metadata": {},
   "source": [
    "[^ Top](#JNB00)\n",
    "___"
   ]
  },
  {
   "cell_type": "markdown",
   "metadata": {},
   "source": [
    ">## END NOTE:  <a class=\"anchor\" id=\"JNB08\"></a>\n",
    ">### Summary of Activties been Performed\n",
    ">\n",
    ">1. Learned the concept of a \"**string**\" and **elements** in **Python 3**.\n",
    ">2. Learned the concept of **indexing** and **slicing** of a string and how to perform it.\n",
    ">3. Learned how to **manipulate** a string using available commands and functions in Pyhton.\n",
    ">4. Learned the **four (4) Data Structures** in Python, namely **Tuple**, **List**, **Dictionary**, and **Set**.\n",
    ">5. Applied the functions and command learned on data structures created in Tuple, List, Dictionary, and Set format.\n",
    ">\n",
    "> This document is just a summarized reflection of actual work been performed at one place.\\\n",
    "> Other versions and practice files might exist.\n",
    ">\n",
    ">`End of the Document`"
   ]
  },
  {
   "cell_type": "markdown",
   "metadata": {},
   "source": [
    "[^ Top](#JNB00)\n",
    "___"
   ]
  }
 ],
 "metadata": {
  "interpreter": {
   "hash": "ad6ec052a6ed06a9c5369350bb1b22f55b27eb3936937b63530579205df4a83b"
  },
  "kernelspec": {
   "display_name": "Python 3.9.7 64-bit ('base': conda)",
   "language": "python",
   "name": "python3"
  },
  "language_info": {
   "codemirror_mode": {
    "name": "ipython",
    "version": 3
   },
   "file_extension": ".py",
   "mimetype": "text/x-python",
   "name": "python",
   "nbconvert_exporter": "python",
   "pygments_lexer": "ipython3",
   "version": "3.9.7"
  },
  "orig_nbformat": 4
 },
 "nbformat": 4,
 "nbformat_minor": 2
}
